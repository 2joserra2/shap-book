{
 "cells": [
  {
   "cell_type": "markdown",
   "metadata": {},
   "source": [
    "# Text\n"
   ]
  },
  {
   "cell_type": "markdown",
   "metadata": {},
   "source": [
    "The special thing about text: The input is always text.\n",
    "At least for the cases that will be presented here.\n",
    "\n",
    "The output, however, can differ. Ranging from:\n",
    "\n",
    "- Scores\n",
    "  - Classification\n",
    "  - Sentiment Analysis\n",
    "- Text\n",
    "  - Translations\n",
    "  - Text generation (aka Language Modeling\n",
    "  - Summarization\n",
    "  - (Extractive) Question Answering\n",
    "  \n",
    "\n",
    "References:\n",
    "\n",
    "- BERT meets Shapley: https://aclanthology.org/2021.hackashop-1.3.pdf\n",
    "- "
   ]
  },
  {
   "cell_type": "markdown",
   "metadata": {},
   "source": [
    "In this chapter we will primarily work with transformers which are state-of-the-art for text ML.\""
   ]
  },
  {
   "cell_type": "markdown",
   "metadata": {},
   "source": [
    "## How SHAP for text works"
   ]
  },
  {
   "cell_type": "markdown",
   "metadata": {},
   "source": [
    "As usual for SHAP, the goal is to attribute the prediction to the inputs.\n",
    "\n",
    "The inputs for text models are, well, texts. The features however can be the individual words, the tokens which depends on a choice of tokenizer or even the individual characters.\n",
    "\n",
    "\n",
    "What the prediction is depends on the task. The simplest case: A probability score as in sentiment analysis.\n",
    "\n",
    "The output for \"I returned the item as it didn't work.\" could be negative with score of 0.8.\n",
    "\n",
    "Then we attribute the scores to the inputs, which, let's say is based on the words [\"I\", \"returned\", \"the\", \"item\", \"as\", \"it\", \"didn't\", \"work\"].\n",
    "\n",
    "This is our team and we want to fairly attribute the 0.8 among these teamm members.\n",
    "\n",
    "This means the input text is modified by removing team members and computing their marginal contributions.\n",
    "\n",
    "Again the question arises: how are features (here words) simualted as absent.\n",
    "\n",
    "Again, this can technically be answered by using masks.\n",
    "\n"
   ]
  },
  {
   "cell_type": "markdown",
   "metadata": {},
   "source": [
    "## Classification"
   ]
  },
  {
   "cell_type": "markdown",
   "metadata": {},
   "source": [
    "Let's start with the simplest example of a classification task. Because we have already done classification, only this time we have text as input.\n",
    "\n",
    "A classic example is sentiment analysis, which has gotten it's own name for a task, but in fact is just plain classification with pre-determined labels. (positive, negative).\n",
    "\n",
    "We will use transformers from Hugging Face which make it super easy to implement it:"
   ]
  },
  {
   "cell_type": "code",
   "execution_count": 19,
   "metadata": {},
   "outputs": [
    {
     "name": "stdout",
     "output_type": "stream",
     "text": [
      "[[{'label': 'NEGATIVE', 'score': 0.9995707869529724}, {'label': 'POSITIVE', 'score': 0.00042914910591207445}]]\n"
     ]
    },
    {
     "name": "stderr",
     "output_type": "stream",
     "text": [
      "`return_all_scores` is now deprecated,  if want a similar funcionality use `top_k=None` instead of `return_all_scores=True` or `top_k=1` instead of `return_all_scores=False`.\n"
     ]
    }
   ],
   "source": [
    "from transformers import pipeline\n",
    "\n",
    "sentiment = pipeline(\"sentiment-analysis\", return_all_scores=True)\n",
    "\n",
    "s = [\"IBM Watson was a scam\"]\n",
    "print(sentiment(s))"
   ]
  },
  {
   "cell_type": "markdown",
   "metadata": {},
   "source": [
    "Rightfully, this is classified as a negative statement. But why? At humans we know why. One keyword here is \"scam\".\n",
    "\n",
    "Let's see if that was also the reason for the model and whether SHAP can handle the situation.\n",
    "\n",
    "We can simply produce an explainer model. Shap automatically knows how to handle the situation:"
   ]
  },
  {
   "cell_type": "code",
   "execution_count": 20,
   "metadata": {},
   "outputs": [],
   "source": [
    "import shap\n",
    "explainer = shap.Explainer(sentiment)"
   ]
  },
  {
   "cell_type": "code",
   "execution_count": 21,
   "metadata": {},
   "outputs": [],
   "source": [
    "shap_values = explainer(s)"
   ]
  },
  {
   "cell_type": "code",
   "execution_count": 22,
   "metadata": {
    "scrolled": true
   },
   "outputs": [
    {
     "data": {
      "text/html": [
       "\n",
       "    <br>\n",
       "    <hr style=\"height: 1px; background-color: #fff; border: none; margin-top: 18px; margin-bottom: 18px; border-top: 1px dashed #ccc;\"\">\n",
       "    <div align=\"center\" style=\"margin-top: -35px;\"><div style=\"display: inline-block; background: #fff; padding: 5px; color: #999; font-family: monospace\">[0]</div>\n",
       "    </div>\n",
       "                <svg width=\"100%\" height=\"80px\"><line x1=\"0\" y1=\"33\" x2=\"100%\" y2=\"33\" style=\"stroke:rgb(150,150,150);stroke-width:1\" /><line x1=\"47.06755592147655%\" y1=\"33\" x2=\"47.06755592147655%\" y2=\"37\" style=\"stroke:rgb(150,150,150);stroke-width:1\" /><text x=\"47.06755592147655%\" y=\"27\" font-size=\"12px\" fill=\"rgb(120,120,120)\" dominant-baseline=\"bottom\" text-anchor=\"middle\">0.8</text><line x1=\"34.15385525628946%\" y1=\"33\" x2=\"34.15385525628946%\" y2=\"37\" style=\"stroke:rgb(150,150,150);stroke-width:1\" /><text x=\"34.15385525628946%\" y=\"27\" font-size=\"12px\" fill=\"rgb(120,120,120)\" dominant-baseline=\"bottom\" text-anchor=\"middle\">0.6</text><line x1=\"21.240154591102367%\" y1=\"33\" x2=\"21.240154591102367%\" y2=\"37\" style=\"stroke:rgb(150,150,150);stroke-width:1\" /><text x=\"21.240154591102367%\" y=\"27\" font-size=\"12px\" fill=\"rgb(120,120,120)\" dominant-baseline=\"bottom\" text-anchor=\"middle\">0.4</text><line x1=\"8.326453925915272%\" y1=\"33\" x2=\"8.326453925915272%\" y2=\"37\" style=\"stroke:rgb(150,150,150);stroke-width:1\" /><text x=\"8.326453925915272%\" y=\"27\" font-size=\"12px\" fill=\"rgb(120,120,120)\" dominant-baseline=\"bottom\" text-anchor=\"middle\">0.2</text><line x1=\"59.98125658666363%\" y1=\"33\" x2=\"59.98125658666363%\" y2=\"37\" style=\"stroke:rgb(150,150,150);stroke-width:1\" /><text x=\"59.98125658666363%\" y=\"27\" font-size=\"12px\" fill=\"rgb(120,120,120)\" dominant-baseline=\"bottom\" text-anchor=\"middle\">1</text><line x1=\"72.89495725185073%\" y1=\"33\" x2=\"72.89495725185073%\" y2=\"37\" style=\"stroke:rgb(150,150,150);stroke-width:1\" /><text x=\"72.89495725185073%\" y=\"27\" font-size=\"12px\" fill=\"rgb(120,120,120)\" dominant-baseline=\"bottom\" text-anchor=\"middle\">1.2</text><line x1=\"85.8086579170378%\" y1=\"33\" x2=\"85.8086579170378%\" y2=\"37\" style=\"stroke:rgb(150,150,150);stroke-width:1\" /><text x=\"85.8086579170378%\" y=\"27\" font-size=\"12px\" fill=\"rgb(120,120,120)\" dominant-baseline=\"bottom\" text-anchor=\"middle\">1.4</text><line x1=\"40.04645641170588%\" y1=\"33\" x2=\"40.04645641170588%\" y2=\"37\" style=\"stroke:rgb(150,150,150);stroke-width:1\" /><text x=\"40.04645641170588%\" y=\"27\" font-size=\"13px\" style=\"stroke:#ffffff;stroke-width:8px;\" fill=\"rgb(255,255,255)\" dominant-baseline=\"bottom\" text-anchor=\"middle\">0.691261</text><text x=\"40.04645641170588%\" y=\"27\" font-size=\"12px\" fill=\"rgb(120,120,120)\" dominant-baseline=\"bottom\" text-anchor=\"middle\">0.691261</text><text x=\"40.04645641170588%\" y=\"10\" font-size=\"12px\" fill=\"rgb(120,120,120)\" dominant-baseline=\"bottom\" text-anchor=\"middle\">base value</text><line x1=\"59.9535429426091%\" y1=\"33\" x2=\"59.9535429426091%\" y2=\"37\" style=\"stroke:rgb(150,150,150);stroke-width:1\" /><text x=\"59.9535429426091%\" y=\"27\" font-size=\"13px\" style=\"stroke:#ffffff;stroke-width:8px;\" font-weight=\"bold\" fill=\"rgb(255,255,255)\" dominant-baseline=\"bottom\" text-anchor=\"middle\">0.999571</text><text x=\"59.9535429426091%\" y=\"27\" font-size=\"13px\" font-weight=\"bold\" fill=\"rgb(0,0,0)\" dominant-baseline=\"bottom\" text-anchor=\"middle\">0.999571</text><text x=\"59.9535429426091%\" y=\"10\" font-size=\"12px\" fill=\"rgb(120,120,120)\" dominant-baseline=\"bottom\" text-anchor=\"middle\">f<tspan baseline-shift=\"sub\" font-size=\"8px\">NEGATIVE</tspan>(inputs)</text><rect x=\"8.333333279526249%\" width=\"51.620209663082846%\" y=\"40\" height=\"18\" style=\"fill:rgb(255.0, 0.0, 81.08083606031792); stroke-width:0; stroke:rgb(0,0,0)\" /><line x1=\"12.950648911279957%\" x2=\"59.9535429426091%\" y1=\"60\" y2=\"60\" id=\"_fb_cxvloygxdojljvkrpsnd_ind_5\" style=\"stroke:rgb(255.0, 0.0, 81.08083606031792);stroke-width:2; opacity: 0\"/><text x=\"36.45209592694453%\" y=\"71\" font-size=\"12px\" id=\"_fs_cxvloygxdojljvkrpsnd_ind_5\" fill=\"rgb(255.0, 0.0, 81.08083606031792)\" style=\"opacity: 0\" dominant-baseline=\"middle\" text-anchor=\"middle\">0.728</text><svg x=\"12.950648911279957%\" y=\"40\" height=\"20\" width=\"47.00289403132914%\">  <svg x=\"0\" y=\"0\" width=\"100%\" height=\"100%\">    <text x=\"50%\" y=\"9\" font-size=\"12px\" fill=\"rgb(255,255,255)\" dominant-baseline=\"middle\" text-anchor=\"middle\">sc</text>  </svg></svg><line x1=\"8.333333279526249%\" x2=\"12.950648911279957%\" y1=\"60\" y2=\"60\" id=\"_fb_cxvloygxdojljvkrpsnd_ind_1\" style=\"stroke:rgb(255.0, 0.0, 81.08083606031792);stroke-width:2; opacity: 0\"/><text x=\"10.641991095403103%\" y=\"71\" font-size=\"12px\" id=\"_fs_cxvloygxdojljvkrpsnd_ind_1\" fill=\"rgb(255.0, 0.0, 81.08083606031792)\" style=\"opacity: 0\" dominant-baseline=\"middle\" text-anchor=\"middle\">0.072</text><svg x=\"8.333333279526249%\" y=\"40\" height=\"20\" width=\"4.6173156317537085%\">  <svg x=\"0\" y=\"0\" width=\"100%\" height=\"100%\">    <text x=\"50%\" y=\"9\" font-size=\"12px\" fill=\"rgb(255,255,255)\" dominant-baseline=\"middle\" text-anchor=\"middle\">IBM</text>  </svg></svg><g transform=\"translate(0,0)\">  <svg x=\"12.950648911279957%\" y=\"40\" height=\"18\" overflow=\"visible\" width=\"30\">    <path d=\"M 0 -9 l 6 18 L 0 25\" fill=\"none\" style=\"stroke:rgb(255.0, 0.0, 81.08083606031792);stroke-width:2\" />  </svg></g><g transform=\"translate(2,0)\">  <svg x=\"12.950648911279957%\" y=\"40\" height=\"18\" overflow=\"visible\" width=\"30\">    <path d=\"M 0 -9 l 6 18 L 0 25\" fill=\"none\" style=\"stroke:rgb(255.0, 0.0, 81.08083606031792);stroke-width:2\" />  </svg></g><g transform=\"translate(4,0)\">  <svg x=\"12.950648911279957%\" y=\"40\" height=\"18\" overflow=\"visible\" width=\"30\">    <path d=\"M 0 -9 l 6 18 L 0 25\" fill=\"none\" style=\"stroke:rgb(255.0, 0.0, 81.08083606031792);stroke-width:2\" />  </svg></g><g transform=\"translate(6,0)\">  <svg x=\"12.950648911279957%\" y=\"40\" height=\"18\" overflow=\"visible\" width=\"30\">    <path d=\"M 0 -9 l 6 18 L 0 25\" fill=\"none\" style=\"stroke:rgb(255.0, 0.0, 81.08083606031792);stroke-width:2\" />  </svg></g><g transform=\"translate(-8,0)\">  <svg x=\"12.950648911279957%\" y=\"40\" height=\"18\" overflow=\"visible\" width=\"30\">    <path d=\"M 0 -9 l 6 18 L 0 25\" fill=\"none\" style=\"stroke:rgb(255.0, 0.0, 81.08083606031792);stroke-width:2\" />  </svg></g><g transform=\"translate(-6,0)\">  <svg x=\"12.950648911279957%\" y=\"40\" height=\"18\" overflow=\"visible\" width=\"30\">    <path d=\"M 0 -9 l 6 18 L 0 25\" fill=\"none\" style=\"stroke:rgb(255.0, 0.0, 81.08083606031792);stroke-width:2\" />  </svg></g><g transform=\"translate(-4,0)\">  <svg x=\"12.950648911279957%\" y=\"40\" height=\"18\" overflow=\"visible\" width=\"30\">    <path d=\"M 0 -9 l 6 18 L 0 25\" fill=\"none\" style=\"stroke:rgb(255.0, 0.0, 81.08083606031792);stroke-width:2\" />  </svg></g><g transform=\"translate(-2,0)\">  <svg x=\"12.950648911279957%\" y=\"40\" height=\"18\" overflow=\"visible\" width=\"30\">    <path d=\"M 0 -9 l 6 18 L 0 25\" fill=\"none\" style=\"stroke:rgb(255.0, 0.0, 81.08083606031792);stroke-width:2\" />  </svg></g><rect transform=\"translate(-8,0)\" x=\"59.9535429426091%\" y=\"40\" width=\"8\" height=\"18\" style=\"fill:rgb(255.0, 0.0, 81.08083606031792)\"/><g transform=\"translate(-11.5,0)\">  <svg x=\"8.333333279526249%\" y=\"40\" height=\"18\" overflow=\"visible\" width=\"30\">    <path d=\"M 10 -9 l 6 18 L 10 25 L 0 25 L 0 -9\" fill=\"#ffffff\" style=\"stroke:rgb(255,255,255);stroke-width:2\" />  </svg></g><g transform=\"translate(-1.5,0)\">  <svg x=\"59.9535429426091%\" y=\"40\" height=\"18\" overflow=\"visible\" width=\"30\">    <path d=\"M 0 -9 l 6 18 L 0 25\" fill=\"none\" style=\"stroke:rgb(255, 195, 213);stroke-width:2\" />  </svg></g><rect x=\"12.950648911279957%\" y=\"40\" height=\"20\" width=\"47.00289403132914%\"      onmouseover=\"document.getElementById('_tp_cxvloygxdojljvkrpsnd_ind_5').style.textDecoration = 'underline';document.getElementById('_fs_cxvloygxdojljvkrpsnd_ind_5').style.opacity = 1;document.getElementById('_fb_cxvloygxdojljvkrpsnd_ind_5').style.opacity = 1;\"      onmouseout=\"document.getElementById('_tp_cxvloygxdojljvkrpsnd_ind_5').style.textDecoration = 'none';document.getElementById('_fs_cxvloygxdojljvkrpsnd_ind_5').style.opacity = 0;document.getElementById('_fb_cxvloygxdojljvkrpsnd_ind_5').style.opacity = 0;\" style=\"fill:rgb(0,0,0,0)\" /><rect x=\"8.333333279526249%\" y=\"40\" height=\"20\" width=\"4.6173156317537085%\"      onmouseover=\"document.getElementById('_tp_cxvloygxdojljvkrpsnd_ind_1').style.textDecoration = 'underline';document.getElementById('_fs_cxvloygxdojljvkrpsnd_ind_1').style.opacity = 1;document.getElementById('_fb_cxvloygxdojljvkrpsnd_ind_1').style.opacity = 1;\"      onmouseout=\"document.getElementById('_tp_cxvloygxdojljvkrpsnd_ind_1').style.textDecoration = 'none';document.getElementById('_fs_cxvloygxdojljvkrpsnd_ind_1').style.opacity = 0;document.getElementById('_fb_cxvloygxdojljvkrpsnd_ind_1').style.opacity = 0;\" style=\"fill:rgb(0,0,0,0)\" /><rect x=\"59.9535429426091%\" width=\"31.713123132179636%\" y=\"40\" height=\"18\" style=\"fill:rgb(0.0, 138.56128015770724, 250.76166088685727); stroke-width:0; stroke:rgb(0,0,0)\" /><line x1=\"59.9535429426091%\" x2=\"72.19677670501754%\" y1=\"60\" y2=\"60\" id=\"_fb_cxvloygxdojljvkrpsnd_ind_4\" style=\"stroke:rgb(0.0, 138.56128015770724, 250.76166088685727);stroke-width:2; opacity: 0\"/><text x=\"66.07515982381332%\" y=\"71\" font-size=\"12px\" fill=\"rgb(0.0, 138.56128015770724, 250.76166088685727)\" id=\"_fs_cxvloygxdojljvkrpsnd_ind_4\" style=\"opacity: 0\" dominant-baseline=\"middle\" text-anchor=\"middle\">-0.19</text><svg x=\"59.9535429426091%\" y=\"40\" height=\"20\" width=\"12.243233762408444%\">  <svg x=\"0\" y=\"0\" width=\"100%\" height=\"100%\">    <text x=\"50%\" y=\"9\" font-size=\"12px\" fill=\"rgb(255,255,255)\" dominant-baseline=\"middle\" text-anchor=\"middle\">a</text>  </svg></svg><line x1=\"72.19677670501754%\" x2=\"83.48797723553038%\" y1=\"60\" y2=\"60\" id=\"_fb_cxvloygxdojljvkrpsnd_ind_2\" style=\"stroke:rgb(0.0, 138.56128015770724, 250.76166088685727);stroke-width:2; opacity: 0\"/><text x=\"77.84237697027396%\" y=\"71\" font-size=\"12px\" fill=\"rgb(0.0, 138.56128015770724, 250.76166088685727)\" id=\"_fs_cxvloygxdojljvkrpsnd_ind_2\" style=\"opacity: 0\" dominant-baseline=\"middle\" text-anchor=\"middle\">-0.175</text><svg x=\"72.19677670501754%\" y=\"40\" height=\"20\" width=\"11.291200530512839%\">  <svg x=\"0\" y=\"0\" width=\"100%\" height=\"100%\">    <text x=\"50%\" y=\"9\" font-size=\"12px\" fill=\"rgb(255,255,255)\" dominant-baseline=\"middle\" text-anchor=\"middle\">Watson</text>  </svg></svg><line x1=\"83.48797723553038%\" x2=\"89.98390208400006%\" y1=\"60\" y2=\"60\" id=\"_fb_cxvloygxdojljvkrpsnd_ind_6\" style=\"stroke:rgb(0.0, 138.56128015770724, 250.76166088685727);stroke-width:2; opacity: 0\"/><text x=\"86.73593965976522%\" y=\"71\" font-size=\"12px\" fill=\"rgb(0.0, 138.56128015770724, 250.76166088685727)\" id=\"_fs_cxvloygxdojljvkrpsnd_ind_6\" style=\"opacity: 0\" dominant-baseline=\"middle\" text-anchor=\"middle\">-0.101</text><svg x=\"83.48797723553038%\" y=\"40\" height=\"20\" width=\"6.495924848469684%\">  <svg x=\"0\" y=\"0\" width=\"100%\" height=\"100%\">    <text x=\"50%\" y=\"9\" font-size=\"12px\" fill=\"rgb(255,255,255)\" dominant-baseline=\"middle\" text-anchor=\"middle\">am</text>  </svg></svg><line x1=\"89.98390208400006%\" x2=\"91.66666607478874%\" y1=\"60\" y2=\"60\" id=\"_fb_cxvloygxdojljvkrpsnd_ind_3\" style=\"stroke:rgb(0.0, 138.56128015770724, 250.76166088685727);stroke-width:2; opacity: 0\"/><text x=\"90.82528407939441%\" y=\"71\" font-size=\"12px\" fill=\"rgb(0.0, 138.56128015770724, 250.76166088685727)\" id=\"_fs_cxvloygxdojljvkrpsnd_ind_3\" style=\"opacity: 0\" dominant-baseline=\"middle\" text-anchor=\"middle\">-0.026</text><svg x=\"89.98390208400006%\" y=\"40\" height=\"20\" width=\"1.682763990788672%\">  <svg x=\"0\" y=\"0\" width=\"100%\" height=\"100%\">    <text x=\"50%\" y=\"9\" font-size=\"12px\" fill=\"rgb(255,255,255)\" dominant-baseline=\"middle\" text-anchor=\"middle\">was</text>  </svg></svg><g transform=\"translate(-8,0)\">  <svg x=\"72.19677670501754%\" y=\"40\" height=\"18\" overflow=\"visible\" width=\"30\">    <path d=\"M 8 -9 l -6 18 L 8 25\" fill=\"none\" style=\"stroke:rgb(0.0, 138.56128015770724, 250.76166088685727);stroke-width:2\" />  </svg></g><g transform=\"translate(-10,0)\">  <svg x=\"72.19677670501754%\" y=\"40\" height=\"18\" overflow=\"visible\" width=\"30\">    <path d=\"M 8 -9 l -6 18 L 8 25\" fill=\"none\" style=\"stroke:rgb(0.0, 138.56128015770724, 250.76166088685727);stroke-width:2\" />  </svg></g><g transform=\"translate(-12,0)\">  <svg x=\"72.19677670501754%\" y=\"40\" height=\"18\" overflow=\"visible\" width=\"30\">    <path d=\"M 8 -9 l -6 18 L 8 25\" fill=\"none\" style=\"stroke:rgb(0.0, 138.56128015770724, 250.76166088685727);stroke-width:2\" />  </svg></g><g transform=\"translate(-14,0)\">  <svg x=\"72.19677670501754%\" y=\"40\" height=\"18\" overflow=\"visible\" width=\"30\">    <path d=\"M 8 -9 l -6 18 L 8 25\" fill=\"none\" style=\"stroke:rgb(0.0, 138.56128015770724, 250.76166088685727);stroke-width:2\" />  </svg></g><g transform=\"translate(2,0)\">  <svg x=\"72.19677670501754%\" y=\"40\" height=\"18\" overflow=\"visible\" width=\"30\">    <path d=\"M 8 -9 l -6 18 L 8 25\" fill=\"none\" style=\"stroke:rgb(0.0, 138.56128015770724, 250.76166088685727);stroke-width:2\" />  </svg></g><g transform=\"translate(0,0)\">  <svg x=\"72.19677670501754%\" y=\"40\" height=\"18\" overflow=\"visible\" width=\"30\">    <path d=\"M 8 -9 l -6 18 L 8 25\" fill=\"none\" style=\"stroke:rgb(0.0, 138.56128015770724, 250.76166088685727);stroke-width:2\" />  </svg></g><g transform=\"translate(-2,0)\">  <svg x=\"72.19677670501754%\" y=\"40\" height=\"18\" overflow=\"visible\" width=\"30\">    <path d=\"M 8 -9 l -6 18 L 8 25\" fill=\"none\" style=\"stroke:rgb(0.0, 138.56128015770724, 250.76166088685727);stroke-width:2\" />  </svg></g><g transform=\"translate(-4,0)\">  <svg x=\"72.19677670501754%\" y=\"40\" height=\"18\" overflow=\"visible\" width=\"30\">    <path d=\"M 8 -9 l -6 18 L 8 25\" fill=\"none\" style=\"stroke:rgb(0.0, 138.56128015770724, 250.76166088685727);stroke-width:2\" />  </svg></g><g transform=\"translate(-8,0)\">  <svg x=\"83.48797723553038%\" y=\"40\" height=\"18\" overflow=\"visible\" width=\"30\">    <path d=\"M 8 -9 l -6 18 L 8 25\" fill=\"none\" style=\"stroke:rgb(0.0, 138.56128015770724, 250.76166088685727);stroke-width:2\" />  </svg></g><g transform=\"translate(-10,0)\">  <svg x=\"83.48797723553038%\" y=\"40\" height=\"18\" overflow=\"visible\" width=\"30\">    <path d=\"M 8 -9 l -6 18 L 8 25\" fill=\"none\" style=\"stroke:rgb(0.0, 138.56128015770724, 250.76166088685727);stroke-width:2\" />  </svg></g><g transform=\"translate(-12,0)\">  <svg x=\"83.48797723553038%\" y=\"40\" height=\"18\" overflow=\"visible\" width=\"30\">    <path d=\"M 8 -9 l -6 18 L 8 25\" fill=\"none\" style=\"stroke:rgb(0.0, 138.56128015770724, 250.76166088685727);stroke-width:2\" />  </svg></g><g transform=\"translate(-14,0)\">  <svg x=\"83.48797723553038%\" y=\"40\" height=\"18\" overflow=\"visible\" width=\"30\">    <path d=\"M 8 -9 l -6 18 L 8 25\" fill=\"none\" style=\"stroke:rgb(0.0, 138.56128015770724, 250.76166088685727);stroke-width:2\" />  </svg></g><g transform=\"translate(2,0)\">  <svg x=\"83.48797723553038%\" y=\"40\" height=\"18\" overflow=\"visible\" width=\"30\">    <path d=\"M 8 -9 l -6 18 L 8 25\" fill=\"none\" style=\"stroke:rgb(0.0, 138.56128015770724, 250.76166088685727);stroke-width:2\" />  </svg></g><g transform=\"translate(0,0)\">  <svg x=\"83.48797723553038%\" y=\"40\" height=\"18\" overflow=\"visible\" width=\"30\">    <path d=\"M 8 -9 l -6 18 L 8 25\" fill=\"none\" style=\"stroke:rgb(0.0, 138.56128015770724, 250.76166088685727);stroke-width:2\" />  </svg></g><g transform=\"translate(-2,0)\">  <svg x=\"83.48797723553038%\" y=\"40\" height=\"18\" overflow=\"visible\" width=\"30\">    <path d=\"M 8 -9 l -6 18 L 8 25\" fill=\"none\" style=\"stroke:rgb(0.0, 138.56128015770724, 250.76166088685727);stroke-width:2\" />  </svg></g><g transform=\"translate(-4,0)\">  <svg x=\"83.48797723553038%\" y=\"40\" height=\"18\" overflow=\"visible\" width=\"30\">    <path d=\"M 8 -9 l -6 18 L 8 25\" fill=\"none\" style=\"stroke:rgb(0.0, 138.56128015770724, 250.76166088685727);stroke-width:2\" />  </svg></g><g transform=\"translate(-8,0)\">  <svg x=\"89.98390208400006%\" y=\"40\" height=\"18\" overflow=\"visible\" width=\"30\">    <path d=\"M 8 -9 l -6 18 L 8 25\" fill=\"none\" style=\"stroke:rgb(0.0, 138.56128015770724, 250.76166088685727);stroke-width:2\" />  </svg></g><g transform=\"translate(-10,0)\">  <svg x=\"89.98390208400006%\" y=\"40\" height=\"18\" overflow=\"visible\" width=\"30\">    <path d=\"M 8 -9 l -6 18 L 8 25\" fill=\"none\" style=\"stroke:rgb(0.0, 138.56128015770724, 250.76166088685727);stroke-width:2\" />  </svg></g><g transform=\"translate(-12,0)\">  <svg x=\"89.98390208400006%\" y=\"40\" height=\"18\" overflow=\"visible\" width=\"30\">    <path d=\"M 8 -9 l -6 18 L 8 25\" fill=\"none\" style=\"stroke:rgb(0.0, 138.56128015770724, 250.76166088685727);stroke-width:2\" />  </svg></g><g transform=\"translate(-14,0)\">  <svg x=\"89.98390208400006%\" y=\"40\" height=\"18\" overflow=\"visible\" width=\"30\">    <path d=\"M 8 -9 l -6 18 L 8 25\" fill=\"none\" style=\"stroke:rgb(0.0, 138.56128015770724, 250.76166088685727);stroke-width:2\" />  </svg></g><g transform=\"translate(2,0)\">  <svg x=\"89.98390208400006%\" y=\"40\" height=\"18\" overflow=\"visible\" width=\"30\">    <path d=\"M 8 -9 l -6 18 L 8 25\" fill=\"none\" style=\"stroke:rgb(0.0, 138.56128015770724, 250.76166088685727);stroke-width:2\" />  </svg></g><g transform=\"translate(0,0)\">  <svg x=\"89.98390208400006%\" y=\"40\" height=\"18\" overflow=\"visible\" width=\"30\">    <path d=\"M 8 -9 l -6 18 L 8 25\" fill=\"none\" style=\"stroke:rgb(0.0, 138.56128015770724, 250.76166088685727);stroke-width:2\" />  </svg></g><g transform=\"translate(-2,0)\">  <svg x=\"89.98390208400006%\" y=\"40\" height=\"18\" overflow=\"visible\" width=\"30\">    <path d=\"M 8 -9 l -6 18 L 8 25\" fill=\"none\" style=\"stroke:rgb(0.0, 138.56128015770724, 250.76166088685727);stroke-width:2\" />  </svg></g><g transform=\"translate(-4,0)\">  <svg x=\"89.98390208400006%\" y=\"40\" height=\"18\" overflow=\"visible\" width=\"30\">    <path d=\"M 8 -9 l -6 18 L 8 25\" fill=\"none\" style=\"stroke:rgb(0.0, 138.56128015770724, 250.76166088685727);stroke-width:2\" />  </svg></g><rect transform=\"translate(0,0)\" x=\"59.9535429426091%\" y=\"40\" width=\"8\" height=\"18\" style=\"fill:rgb(0.0, 138.56128015770724, 250.76166088685727)\"/><g transform=\"translate(-6.0,0)\">  <svg x=\"91.66666607478874%\" y=\"40\" height=\"18\" overflow=\"visible\" width=\"30\">    <path d=\"M 8 -9 l -6 18 L 8 25 L 20 25 L 20 -9\" fill=\"#ffffff\" style=\"stroke:rgb(255,255,255);stroke-width:2\" />  </svg></g><g transform=\"translate(-6.0,0)\">  <svg x=\"72.19677670501754%\" y=\"40\" height=\"18\" overflow=\"visible\" width=\"30\">    <path d=\"M 8 -9 l -6 18 L 8 25\" fill=\"none\" style=\"stroke:rgb(208, 230, 250);stroke-width:2\" />  </svg></g><rect x=\"59.9535429426091%\" y=\"40\" height=\"20\" width=\"12.243233762408444%\"      onmouseover=\"document.getElementById('_tp_cxvloygxdojljvkrpsnd_ind_4').style.textDecoration = 'underline';document.getElementById('_fs_cxvloygxdojljvkrpsnd_ind_4').style.opacity = 1;document.getElementById('_fb_cxvloygxdojljvkrpsnd_ind_4').style.opacity = 1;\"      onmouseout=\"document.getElementById('_tp_cxvloygxdojljvkrpsnd_ind_4').style.textDecoration = 'none';document.getElementById('_fs_cxvloygxdojljvkrpsnd_ind_4').style.opacity = 0;document.getElementById('_fb_cxvloygxdojljvkrpsnd_ind_4').style.opacity = 0;\" style=\"fill:rgb(0,0,0,0)\" /><g transform=\"translate(-6.0,0)\">  <svg x=\"83.48797723553038%\" y=\"40\" height=\"18\" overflow=\"visible\" width=\"30\">    <path d=\"M 8 -9 l -6 18 L 8 25\" fill=\"none\" style=\"stroke:rgb(208, 230, 250);stroke-width:2\" />  </svg></g><rect x=\"72.19677670501754%\" y=\"40\" height=\"20\" width=\"11.291200530512839%\"      onmouseover=\"document.getElementById('_tp_cxvloygxdojljvkrpsnd_ind_2').style.textDecoration = 'underline';document.getElementById('_fs_cxvloygxdojljvkrpsnd_ind_2').style.opacity = 1;document.getElementById('_fb_cxvloygxdojljvkrpsnd_ind_2').style.opacity = 1;\"      onmouseout=\"document.getElementById('_tp_cxvloygxdojljvkrpsnd_ind_2').style.textDecoration = 'none';document.getElementById('_fs_cxvloygxdojljvkrpsnd_ind_2').style.opacity = 0;document.getElementById('_fb_cxvloygxdojljvkrpsnd_ind_2').style.opacity = 0;\" style=\"fill:rgb(0,0,0,0)\" /><g transform=\"translate(-6.0,0)\">  <svg x=\"89.98390208400006%\" y=\"40\" height=\"18\" overflow=\"visible\" width=\"30\">    <path d=\"M 8 -9 l -6 18 L 8 25\" fill=\"none\" style=\"stroke:rgb(208, 230, 250);stroke-width:2\" />  </svg></g><rect x=\"83.48797723553038%\" y=\"40\" height=\"20\" width=\"6.495924848469684%\"      onmouseover=\"document.getElementById('_tp_cxvloygxdojljvkrpsnd_ind_6').style.textDecoration = 'underline';document.getElementById('_fs_cxvloygxdojljvkrpsnd_ind_6').style.opacity = 1;document.getElementById('_fb_cxvloygxdojljvkrpsnd_ind_6').style.opacity = 1;\"      onmouseout=\"document.getElementById('_tp_cxvloygxdojljvkrpsnd_ind_6').style.textDecoration = 'none';document.getElementById('_fs_cxvloygxdojljvkrpsnd_ind_6').style.opacity = 0;document.getElementById('_fb_cxvloygxdojljvkrpsnd_ind_6').style.opacity = 0;\" style=\"fill:rgb(0,0,0,0)\" /><rect x=\"89.98390208400006%\" y=\"40\" height=\"20\" width=\"1.682763990788672%\"      onmouseover=\"document.getElementById('_tp_cxvloygxdojljvkrpsnd_ind_3').style.textDecoration = 'underline';document.getElementById('_fs_cxvloygxdojljvkrpsnd_ind_3').style.opacity = 1;document.getElementById('_fb_cxvloygxdojljvkrpsnd_ind_3').style.opacity = 1;\"      onmouseout=\"document.getElementById('_tp_cxvloygxdojljvkrpsnd_ind_3').style.textDecoration = 'none';document.getElementById('_fs_cxvloygxdojljvkrpsnd_ind_3').style.opacity = 0;document.getElementById('_fb_cxvloygxdojljvkrpsnd_ind_3').style.opacity = 0;\" style=\"fill:rgb(0,0,0,0)\" /></svg><div align='center'><div style=\"color: rgb(120,120,120); font-size: 12px; margin-top: -15px;\">inputs</div><div style='display: inline; text-align: center;'\n",
       "    ><div style='display: none; color: #999; padding-top: 0px; font-size: 12px;'>0.0</div\n",
       "        ><div id='_tp_cxvloygxdojljvkrpsnd_ind_0'\n",
       "            style='display: inline; background: rgba(230.2941176470614, 26.505882352939775, 102.59215686274348, 0.0); border-radius: 3px; padding: 0px'\n",
       "            onclick=\"\n",
       "            if (this.previousSibling.style.display == 'none') {\n",
       "                this.previousSibling.style.display = 'block';\n",
       "                this.parentNode.style.display = 'inline-block';\n",
       "            } else {\n",
       "                this.previousSibling.style.display = 'none';\n",
       "                this.parentNode.style.display = 'inline';\n",
       "            }\"\n",
       "            onmouseover=\"document.getElementById('_fb_cxvloygxdojljvkrpsnd_ind_0').style.opacity = 1; document.getElementById('_fs_cxvloygxdojljvkrpsnd_ind_0').style.opacity = 1;\"\n",
       "            onmouseout=\"document.getElementById('_fb_cxvloygxdojljvkrpsnd_ind_0').style.opacity = 0; document.getElementById('_fs_cxvloygxdojljvkrpsnd_ind_0').style.opacity = 0;\"\n",
       "        ></div></div><div style='display: inline; text-align: center;'\n",
       "    ><div style='display: none; color: #999; padding-top: 0px; font-size: 12px;'>0.072</div\n",
       "        ><div id='_tp_cxvloygxdojljvkrpsnd_ind_1'\n",
       "            style='display: inline; background: rgba(255.0, 13.0, 87.0, 0.09348385818974037); border-radius: 3px; padding: 0px'\n",
       "            onclick=\"\n",
       "            if (this.previousSibling.style.display == 'none') {\n",
       "                this.previousSibling.style.display = 'block';\n",
       "                this.parentNode.style.display = 'inline-block';\n",
       "            } else {\n",
       "                this.previousSibling.style.display = 'none';\n",
       "                this.parentNode.style.display = 'inline';\n",
       "            }\"\n",
       "            onmouseover=\"document.getElementById('_fb_cxvloygxdojljvkrpsnd_ind_1').style.opacity = 1; document.getElementById('_fs_cxvloygxdojljvkrpsnd_ind_1').style.opacity = 1;\"\n",
       "            onmouseout=\"document.getElementById('_fb_cxvloygxdojljvkrpsnd_ind_1').style.opacity = 0; document.getElementById('_fs_cxvloygxdojljvkrpsnd_ind_1').style.opacity = 0;\"\n",
       "        >IBM </div></div><div style='display: inline; text-align: center;'\n",
       "    ><div style='display: none; color: #999; padding-top: 0px; font-size: 12px;'>-0.175</div\n",
       "        ><div id='_tp_cxvloygxdojljvkrpsnd_ind_2'\n",
       "            style='display: inline; background: rgba(30.0, 136.0, 229.0, 0.23537334125569417); border-radius: 3px; padding: 0px'\n",
       "            onclick=\"\n",
       "            if (this.previousSibling.style.display == 'none') {\n",
       "                this.previousSibling.style.display = 'block';\n",
       "                this.parentNode.style.display = 'inline-block';\n",
       "            } else {\n",
       "                this.previousSibling.style.display = 'none';\n",
       "                this.parentNode.style.display = 'inline';\n",
       "            }\"\n",
       "            onmouseover=\"document.getElementById('_fb_cxvloygxdojljvkrpsnd_ind_2').style.opacity = 1; document.getElementById('_fs_cxvloygxdojljvkrpsnd_ind_2').style.opacity = 1;\"\n",
       "            onmouseout=\"document.getElementById('_fb_cxvloygxdojljvkrpsnd_ind_2').style.opacity = 0; document.getElementById('_fs_cxvloygxdojljvkrpsnd_ind_2').style.opacity = 0;\"\n",
       "        >Watson </div></div><div style='display: inline; text-align: center;'\n",
       "    ><div style='display: none; color: #999; padding-top: 0px; font-size: 12px;'>-0.026</div\n",
       "        ><div id='_tp_cxvloygxdojljvkrpsnd_ind_3'\n",
       "            style='display: inline; background: rgba(30.0, 136.0, 229.0, 0.03042186571598325); border-radius: 3px; padding: 0px'\n",
       "            onclick=\"\n",
       "            if (this.previousSibling.style.display == 'none') {\n",
       "                this.previousSibling.style.display = 'block';\n",
       "                this.parentNode.style.display = 'inline-block';\n",
       "            } else {\n",
       "                this.previousSibling.style.display = 'none';\n",
       "                this.parentNode.style.display = 'inline';\n",
       "            }\"\n",
       "            onmouseover=\"document.getElementById('_fb_cxvloygxdojljvkrpsnd_ind_3').style.opacity = 1; document.getElementById('_fs_cxvloygxdojljvkrpsnd_ind_3').style.opacity = 1;\"\n",
       "            onmouseout=\"document.getElementById('_fb_cxvloygxdojljvkrpsnd_ind_3').style.opacity = 0; document.getElementById('_fs_cxvloygxdojljvkrpsnd_ind_3').style.opacity = 0;\"\n",
       "        >was </div></div><div style='display: inline; text-align: center;'\n",
       "    ><div style='display: none; color: #999; padding-top: 0px; font-size: 12px;'>-0.19</div\n",
       "        ><div id='_tp_cxvloygxdojljvkrpsnd_ind_4'\n",
       "            style='display: inline; background: rgba(30.0, 136.0, 229.0, 0.25902158843335304); border-radius: 3px; padding: 0px'\n",
       "            onclick=\"\n",
       "            if (this.previousSibling.style.display == 'none') {\n",
       "                this.previousSibling.style.display = 'block';\n",
       "                this.parentNode.style.display = 'inline-block';\n",
       "            } else {\n",
       "                this.previousSibling.style.display = 'none';\n",
       "                this.parentNode.style.display = 'inline';\n",
       "            }\"\n",
       "            onmouseover=\"document.getElementById('_fb_cxvloygxdojljvkrpsnd_ind_4').style.opacity = 1; document.getElementById('_fs_cxvloygxdojljvkrpsnd_ind_4').style.opacity = 1;\"\n",
       "            onmouseout=\"document.getElementById('_fb_cxvloygxdojljvkrpsnd_ind_4').style.opacity = 0; document.getElementById('_fs_cxvloygxdojljvkrpsnd_ind_4').style.opacity = 0;\"\n",
       "        >a </div></div><div style='display: inline; text-align: center;'\n",
       "    ><div style='display: none; color: #999; padding-top: 0px; font-size: 12px;'>0.728</div\n",
       "        ><div id='_tp_cxvloygxdojljvkrpsnd_ind_5'\n",
       "            style='display: inline; background: rgba(255.0, 13.0, 87.0, 1.0); border-radius: 3px; padding: 0px'\n",
       "            onclick=\"\n",
       "            if (this.previousSibling.style.display == 'none') {\n",
       "                this.previousSibling.style.display = 'block';\n",
       "                this.parentNode.style.display = 'inline-block';\n",
       "            } else {\n",
       "                this.previousSibling.style.display = 'none';\n",
       "                this.parentNode.style.display = 'inline';\n",
       "            }\"\n",
       "            onmouseover=\"document.getElementById('_fb_cxvloygxdojljvkrpsnd_ind_5').style.opacity = 1; document.getElementById('_fs_cxvloygxdojljvkrpsnd_ind_5').style.opacity = 1;\"\n",
       "            onmouseout=\"document.getElementById('_fb_cxvloygxdojljvkrpsnd_ind_5').style.opacity = 0; document.getElementById('_fs_cxvloygxdojljvkrpsnd_ind_5').style.opacity = 0;\"\n",
       "        >sc</div></div><div style='display: inline; text-align: center;'\n",
       "    ><div style='display: none; color: #999; padding-top: 0px; font-size: 12px;'>-0.101</div\n",
       "        ><div id='_tp_cxvloygxdojljvkrpsnd_ind_6'\n",
       "            style='display: inline; background: rgba(30.0, 136.0, 229.0, 0.1328976034858387); border-radius: 3px; padding: 0px'\n",
       "            onclick=\"\n",
       "            if (this.previousSibling.style.display == 'none') {\n",
       "                this.previousSibling.style.display = 'block';\n",
       "                this.parentNode.style.display = 'inline-block';\n",
       "            } else {\n",
       "                this.previousSibling.style.display = 'none';\n",
       "                this.parentNode.style.display = 'inline';\n",
       "            }\"\n",
       "            onmouseover=\"document.getElementById('_fb_cxvloygxdojljvkrpsnd_ind_6').style.opacity = 1; document.getElementById('_fs_cxvloygxdojljvkrpsnd_ind_6').style.opacity = 1;\"\n",
       "            onmouseout=\"document.getElementById('_fb_cxvloygxdojljvkrpsnd_ind_6').style.opacity = 0; document.getElementById('_fs_cxvloygxdojljvkrpsnd_ind_6').style.opacity = 0;\"\n",
       "        >am</div></div><div style='display: inline; text-align: center;'\n",
       "    ><div style='display: none; color: #999; padding-top: 0px; font-size: 12px;'>0.0</div\n",
       "        ><div id='_tp_cxvloygxdojljvkrpsnd_ind_7'\n",
       "            style='display: inline; background: rgba(230.2941176470614, 26.505882352939775, 102.59215686274348, 0.0); border-radius: 3px; padding: 0px'\n",
       "            onclick=\"\n",
       "            if (this.previousSibling.style.display == 'none') {\n",
       "                this.previousSibling.style.display = 'block';\n",
       "                this.parentNode.style.display = 'inline-block';\n",
       "            } else {\n",
       "                this.previousSibling.style.display = 'none';\n",
       "                this.parentNode.style.display = 'inline';\n",
       "            }\"\n",
       "            onmouseover=\"document.getElementById('_fb_cxvloygxdojljvkrpsnd_ind_7').style.opacity = 1; document.getElementById('_fs_cxvloygxdojljvkrpsnd_ind_7').style.opacity = 1;\"\n",
       "            onmouseout=\"document.getElementById('_fb_cxvloygxdojljvkrpsnd_ind_7').style.opacity = 0; document.getElementById('_fs_cxvloygxdojljvkrpsnd_ind_7').style.opacity = 0;\"\n",
       "        ></div></div></div>"
      ],
      "text/plain": [
       "<IPython.core.display.HTML object>"
      ]
     },
     "metadata": {},
     "output_type": "display_data"
    }
   ],
   "source": [
    "shap.plots.text(shap_values[:,:,\"NEGATIVE\"])"
   ]
  },
  {
   "cell_type": "code",
   "execution_count": 23,
   "metadata": {},
   "outputs": [
    {
     "data": {
      "image/png": "[encoded data removed]",
      "text/plain": [
       "<Figure size 800x550 with 1 Axes>"
      ]
     },
     "metadata": {},
     "output_type": "display_data"
    }
   ],
   "source": [
    "shap.plots.bar(shap_values[0,:, \"NEGATIVE\"])"
   ]
  },
  {
   "cell_type": "markdown",
   "metadata": {},
   "source": [
    "We see that \"IBM\" and \"sc\" contributed the most to negative sentiment, especaailly \"sc\".\n",
    "\n",
    "Weird thing: Scam is cut into \"sc\" and \"am\", which I don't like at all. But that's a question of how we mask the input. Masking in the case of text is determined by which tokenizer we use.\n",
    "\n",
    "So let's play around with this option:"
   ]
  },
  {
   "cell_type": "markdown",
   "metadata": {},
   "source": [
    "But first we \"fix\" another problem: Output is on the probability space between 0 and 1, which had to undergo a logit transformation.\n",
    "Additive explanations, however, work better on linear scales. In this case the logits, which are just before this 0 to 1 squeezing.\n",
    "\n",
    "shap implements, especially for transformers a wrapper that can be used. Here we have the option to say whether we want the logits or the probabilities:"
   ]
  },
  {
   "cell_type": "code",
   "execution_count": 24,
   "metadata": {},
   "outputs": [],
   "source": [
    "model = shap.models.TransformersPipeline(sentiment, rescale_to_logits=True)\n"
   ]
  },
  {
   "cell_type": "markdown",
   "metadata": {},
   "source": [
    "Just like with the original transformer, we can make predictions with this model:"
   ]
  },
  {
   "cell_type": "code",
   "execution_count": null,
   "metadata": {},
   "outputs": [],
   "source": [
    "model(s)"
   ]
  },
  {
   "cell_type": "markdown",
   "metadata": {},
   "source": [
    "Let's see how it affects the explanations with shap:"
   ]
  },
  {
   "cell_type": "code",
   "execution_count": null,
   "metadata": {},
   "outputs": [],
   "source": [
    "explainer2 = shap.Explainer(model)\n",
    "shap_values2 = explainer2(s)\n",
    "shap.plots.text(shap_values2[:,:,0])"
   ]
  },
  {
   "cell_type": "markdown",
   "metadata": {},
   "source": [
    "Kinda the same, which is good, but with \"am\" also being a positive factor, which makes more sense now"
   ]
  },
  {
   "cell_type": "code",
   "execution_count": null,
   "metadata": {},
   "outputs": [],
   "source": [
    "masker = shap.maskers.Text(tokenizer=r\"\\W+\")\n",
    "explainer = shap.Explainer(model, masker=masker)\n",
    "shap_values = explainer(s)\n",
    "shap.plots.text(shap_values[:,:,\"NEGATIVE\"])"
   ]
  },
  {
   "cell_type": "markdown",
   "metadata": {},
   "source": [
    "So here it becomes more clear that \"scam\" is the word of interest.\n",
    "\n",
    "The tokenizer is totally flexible.\n",
    "\n",
    "Here is an example based on sentences. Here the tokenizer is super dumb and just tokenizes the input at the dots \".\". Let's try a longer input text and see how much each sentence contributes."
   ]
  },
  {
   "cell_type": "code",
   "execution_count": null,
   "metadata": {},
   "outputs": [],
   "source": [
    "?shap.maskers.Text"
   ]
  },
  {
   "cell_type": "code",
   "execution_count": null,
   "metadata": {},
   "outputs": [],
   "source": [
    "many_sentences = [\"IBM was a scam. It was more about marketing than technology. But that's why I loved it. Learned a bunch about marketing that way.\"]\n",
    "print(sentiment(many_sentences))\n",
    "masker = shap.maskers.Text(tokenizer=r\"\\.\", mask_token=\" \")\n",
    "explainer = shap.Explainer(model, masker=masker)\n",
    "shap_values = explainer(many_sentences)\n",
    "shap.plots.text(shap_values[:,:,\"POSITIVE\"])"
   ]
  },
  {
   "cell_type": "markdown",
   "metadata": {},
   "source": [
    "As a mask token we used a whitespace \" \", which seems okay for dropping a sentence. The default for this case is \"...\", but in general if a tokenizer is supplied the .mask_token attribute is used, if the tokenizer has this attribute."
   ]
  },
  {
   "cell_type": "markdown",
   "metadata": {},
   "source": [
    "The tokenizer acts as a background dataset.\n",
    "\n",
    "I want to demonstrate this by doing some \"extreme\" masking: Instead of removing a sentence and replacing it with nothing, we replace it with a particular sentence."
   ]
  },
  {
   "cell_type": "markdown",
   "metadata": {},
   "source": [
    "By the way, the argument , collapse_mask_token=True makes that if two tokens in a row are replaced by the mask_token that the token is only added once.\n",
    "\n",
    "So if, in the next example the sentences are replaced with \"I love it\", then only once in a row.\n",
    "\n",
    "Input: IBM was a scam.\n",
    "It was more about marketing than technology.\n",
    "But that's why I loved it.\n",
    "Learned a bunch about marketing that way\n",
    "\n",
    "Let's say for the marginal contribution of \"Learned a bunch about marketing\", when added to the empty set, we actually compare the prediction for these two sentences:\n",
    "\n",
    "\"I love it. Learned a bunch about marketing that way.\" versus \"I love it.\"\n",
    "\n",
    "If collapse_mask_token=False, then we would compare predictions for \"I love it. I love it. I love it. Learned a bunch about marketing that way.\" versus \"I love it. I love it. I love it. I love it.\"\n",
    "\n",
    "So it often makes sense to set collapse_mask_token to True.\n",
    "\n",
    "In theory you could also write a custom masker.\n",
    "\n"
   ]
  },
  {
   "cell_type": "code",
   "execution_count": null,
   "metadata": {
    "scrolled": true
   },
   "outputs": [],
   "source": [
    "masker = shap.maskers.Text(tokenizer=r\"\\.\", mask_token=\"I love it\", collapse_mask_token=True)\n",
    "explainer = shap.Explainer(model, masker=masker)\n",
    "shap_values = explainer(many_sentences)\n",
    "shap.plots.text(shap_values[:,:,\"POSITIVE\"])"
   ]
  },
  {
   "cell_type": "code",
   "execution_count": null,
   "metadata": {},
   "outputs": [],
   "source": [
    "masker = shap.maskers.Text(tokenizer=r\"\\.\", mask_token=\"I hate it\", collapse_mask_token=True)\n",
    "explainer = shap.Explainer(model, masker=masker)\n",
    "shap_values = explainer(many_sentences)\n",
    "shap.plots.text(shap_values[:,:,\"POSITIVE\"])"
   ]
  },
  {
   "cell_type": "markdown",
   "metadata": {},
   "source": [
    "What happens here?\n",
    "The replacement is acting as a reference. In one case any sentence that is dropped from the coalition is replaced with \"I love it\" and for the other explanation with \"I hate it\".\n",
    "\n",
    "What changes?\n",
    "\n",
    "The base value changes from strongly positive to negative. Every sentence is now to be interpreted in contrast with the replacement. This was also true before, but before we replaced it with an empty string which is more neutral than the sentences provided.\n",
    "\n",
    "Don't use such extreme masking tokens, this obviously don't make sense. But it can make sense to use more specific tokens.\n",
    "\n",
    "And the lesson here is that the masking does matter, because it serves as the background data. So you should be aware of the replacement and think about whether it makes sense. Maybe test out alternatives."
   ]
  },
  {
   "cell_type": "markdown",
   "metadata": {},
   "source": [
    "For example, there's even a difference whether we replace tokens with \" \" or \"...\":"
   ]
  },
  {
   "cell_type": "code",
   "execution_count": null,
   "metadata": {},
   "outputs": [],
   "source": [
    "masker = shap.maskers.Text(tokenizer=r\"\\.\", mask_token=\"...\", collapse_mask_token=True))\n",
    "explainer = shap.Explainer(model, masker=masker)\n",
    "shap_values = explainer(many_sentences)\n",
    "shap.plots.text(shap_values[:,:,\"POSITIVE\"])"
   ]
  },
  {
   "cell_type": "code",
   "execution_count": null,
   "metadata": {},
   "outputs": [],
   "source": [
    "masker = shap.maskers.Text(tokenizer=r\"\\.\", mask_token=\" \", collapse_mask_token=True))\n",
    "explainer = shap.Explainer(model, masker=masker)\n",
    "shap_values = explainer(many_sentences)\n",
    "shap.plots.text(shap_values[:,:,\"POSITIVE\"])"
   ]
  },
  {
   "cell_type": "markdown",
   "metadata": {},
   "source": [
    "While the overall attribution doesn't change in a relevant way (except for sign change for the \"marketing\" sentence, but which was close to zero anyways), it does change the base value by quite a bit.\n",
    "\n",
    "So, play around with it, maybe generate some text with it and make a qualitative judgement on whether it makes sense or not."
   ]
  },
  {
   "cell_type": "markdown",
   "metadata": {},
   "source": [
    "## Text Generation"
   ]
  },
  {
   "cell_type": "markdown",
   "metadata": {},
   "source": [
    "For text generatio, we will look at transformer models.\n",
    "\n",
    "You know, the type of model powering ChatGPT and GPT-3. But since we want an example that runs without requiring an account somewhere, we do this locally and use a \"weaker\" model.\n",
    "\n",
    "In theory, however, it would be possible to do this via API as well. Because Shapley values are model-agnostic.\n",
    "\n",
    "\n",
    "So for this example, we use GPT-2. That's what's automatically chosen, at the time of writing, from the transformers library for the task \"text-generation\""
   ]
  },
  {
   "cell_type": "code",
   "execution_count": null,
   "metadata": {},
   "outputs": [],
   "source": [
    "from transformers import pipeline\n",
    "\n",
    "text_generator = pipeline(\"text-generation\")"
   ]
  },
  {
   "cell_type": "code",
   "execution_count": null,
   "metadata": {},
   "outputs": [],
   "source": [
    "s = [\"For pancakes instructions you should\"]"
   ]
  },
  {
   "cell_type": "code",
   "execution_count": null,
   "metadata": {},
   "outputs": [],
   "source": [
    "text_generator(s, max_length=20)"
   ]
  },
  {
   "cell_type": "code",
   "execution_count": null,
   "metadata": {},
   "outputs": [],
   "source": [
    "import shap"
   ]
  },
  {
   "cell_type": "code",
   "execution_count": null,
   "metadata": {
    "scrolled": true
   },
   "outputs": [],
   "source": [
    "explainer = shap.Explainer(text_generator)\n",
    "shap_values = explainer(s)\n",
    "shap.plots.text(shap_values)"
   ]
  },
  {
   "cell_type": "markdown",
   "metadata": {},
   "source": [
    "We have two problems:\n",
    "\n",
    "- The input is repeated, and we don't care about it\n",
    "- some words are ripped into two\n"
   ]
  },
  {
   "cell_type": "code",
   "execution_count": null,
   "metadata": {},
   "outputs": [],
   "source": [
    "wrapped_model = shap.models.TopKLM(text_generator, text_generator.tokenizer, k=10)\n",
    "explainer = shap.Explainer(wrapped_model, text_generator.tokenizer)"
   ]
  },
  {
   "cell_type": "code",
   "execution_count": null,
   "metadata": {},
   "outputs": [],
   "source": [
    "explainer = shap.Explainer(text_generator)\n",
    "shap_values = explainer(s)\n",
    "shap.plots.text(shap_values)"
   ]
  },
  {
   "cell_type": "markdown",
   "metadata": {},
   "source": [
    "## Translation"
   ]
  },
  {
   "cell_type": "markdown",
   "metadata": {},
   "source": [
    "Translation is another text to text task.\n",
    "\n",
    "So again, in this case we will get for each output word an explanation."
   ]
  },
  {
   "cell_type": "code",
   "execution_count": null,
   "metadata": {},
   "outputs": [],
   "source": [
    "from transformers import pipeline\n",
    "\n",
    "translator = pipeline(\"translation_en_to_de\")\n",
    "s = \"German humor is no laughing matter.\"\n",
    "print(translator(s, max_length=40))"
   ]
  },
  {
   "cell_type": "markdown",
   "metadata": {},
   "source": [
    "## Summary"
   ]
  },
  {
   "cell_type": "code",
   "execution_count": null,
   "metadata": {},
   "outputs": [],
   "source": [
    "translator.tokenizer"
   ]
  },
  {
   "cell_type": "code",
   "execution_count": null,
   "metadata": {},
   "outputs": [],
   "source": [
    "masker = shap.maskers.Text(tokenizer=r\"\\W+\")\n",
    "explainer = shap.Explainer(translator, masker=translator.tokenizer)\n",
    "shap_values = explainer(s)\n",
    "shap.plots.text(shap_values)"
   ]
  },
  {
   "cell_type": "code",
   "execution_count": null,
   "metadata": {},
   "outputs": [],
   "source": [
    "\n",
    "\n",
    "import numpy as np\n",
    "from transformers import AutoTokenizer, AutoModelForSeq2SeqLM\n",
    "import shap\n",
    "import torch\n",
    "\n",
    "\n",
    "\n",
    "# load the model and tokenizer\n",
    "tokenizer = AutoTokenizer.from_pretrained(\"Helsinki-NLP/opus-mt-en-es\")\n",
    "model = AutoModelForSeq2SeqLM.from_pretrained(\"Helsinki-NLP/opus-mt-en-es\").cuda()\n",
    "\n",
    "# define the input sentences we want to translate\n",
    "data = [\n",
    "    \"Transformers have rapidly become the model of choice for NLP problems, replacing older recurrent neural network models\"\n",
    "]\n",
    "\n",
    "# the tokenizer we want to use to break up the input strings\n",
    "explainer = shap.Explainer(model, tokenizer)\n",
    "\n",
    "# explainers are callable, just like models\n",
    "shap_values = explainer(data, fixed_context=1)\n",
    "\n",
    "shap.plots.text(shap_values)"
   ]
  },
  {
   "cell_type": "code",
   "execution_count": null,
   "metadata": {},
   "outputs": [],
   "source": []
  }
 ],
 "metadata": {
  "kernelspec": {
   "display_name": "Python 3 (ipykernel)",
   "language": "python",
   "name": "python3"
  },
  "language_info": {
   "codemirror_mode": {
    "name": "ipython",
    "version": 3
   },
   "file_extension": ".py",
   "mimetype": "text/x-python",
   "name": "python",
   "nbconvert_exporter": "python",
   "pygments_lexer": "ipython3",
   "version": "3.10.7"
  }
 },
 "nbformat": 4,
 "nbformat_minor": 4
}
