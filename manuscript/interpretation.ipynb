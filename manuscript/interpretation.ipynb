{
  "cells": [
    {
      "cell_type": "markdown",
      "metadata": {},
      "source": [
        "# Interpretation of Shapley values\n",
        "\n",
        "In this chapter you'll learn:\n",
        "\n",
        "- correct interpretation of Shapley values\n",
        "- pitfalls for interpretation\n",
        "- interpretation for many special cases\n",
        "-\n",
        "\n",
        "\n",
        "TODO: Look at examples here: https://shap.readthedocs.io/en/latest/example_notebooks/overviews/An%20introduction%20to%20explainable%20AI%20with%20Shapley%20values.html#linear_regression\n",
        "\n",
        "\n",
        "## Shapley values for linear models"
      ]
    },
    {
      "cell_type": "code",
      "metadata": {},
      "source": [
        "import shap\n",
        "from sklearn.linear_model import LinearRegression\n",
        "X,y = shap.datasets.california(n_points=3000)\n",
        "background = shap.utils.sample(X, 2000)\n",
        "model = LinearRegression()\n",
        "model.fit(X, y)"
      ],
      "execution_count": null,
      "outputs": []
    },
    {
      "cell_type": "markdown",
      "metadata": {},
      "source": [
        "Alright, now we have a linear regression model.\n",
        "Let's first inspect the coefficients and then compare it with the corresponding Shapley values."
      ]
    },
    {
      "cell_type": "code",
      "metadata": {},
      "source": [
        "import pandas as pd\n",
        "coefs = pd.DataFrame({\"feature\": X.columns.values, \"value\": model.coef_})\n",
        "print(coefs)"
      ],
      "execution_count": null,
      "outputs": []
    },
    {
      "cell_type": "code",
      "metadata": {},
      "source": [
        "explainer = shap.Explainer(model.predict, background)\n",
        "shap_values = explainer(X)"
      ],
      "execution_count": null,
      "outputs": []
    },
    {
      "cell_type": "markdown",
      "metadata": {},
      "source": [
        "Alright, now let's plot the feature \"MedInc\" against its shapley values."
      ]
    },
    {
      "cell_type": "code",
      "metadata": {
        "scrolled": true
      },
      "source": [
        "import matplotlib.pyplot as plt\n",
        "# select one feature for plotting SHAP values\n",
        "feature_name = 'MedInc'\n",
        "feature_idx = X.columns.get_loc(feature_name)\n",
        "\n",
        "# plot SHAP values against feature values\n",
        "plt.scatter(X[feature_name], shap_values.values[:, feature_idx], alpha=0.2)\n",
        "plt.xlabel(feature_name)\n",
        "plt.ylabel('SHAP value')\n",
        "plt.show()"
      ],
      "execution_count": null,
      "outputs": []
    },
    {
      "cell_type": "markdown",
      "metadata": {},
      "source": [
        "So we can see that the Shapley value increases linearly with each increase in the feature. And this increase is exactly the same as the slope in "
      ]
    },
    {
      "cell_type": "code",
      "metadata": {},
      "source": [
        "coefs.value[feature_idx]"
      ],
      "execution_count": null,
      "outputs": []
    },
    {
      "cell_type": "code",
      "metadata": {},
      "source": [
        "model.intercept_"
      ],
      "execution_count": null,
      "outputs": []
    },
    {
      "cell_type": "markdown",
      "metadata": {},
      "source": [
        "We know that in linear regression models, $\\phi_{ji}(\\hat{f}) = \\beta_j x_j - E(\\beta_jX_j) = \\beta_j (x_j - E(X_j))$\n",
        "Let's confirm that this is correct:"
      ]
    },
    {
      "cell_type": "code",
      "metadata": {},
      "source": [
        "X[feature_name].mean()"
      ],
      "execution_count": null,
      "outputs": []
    },
    {
      "cell_type": "code",
      "metadata": {
        "scrolled": true
      },
      "source": [
        "import numpy as np\n",
        "# plot SHAP values against feature values\n",
        "plt.scatter(X[feature_name], shap_values.values[:, feature_idx], alpha=0.2)\n",
        "plt.xlabel(feature_name)\n",
        "plt.ylabel('SHAP value')\n",
        "\n",
        "x_range = np.array([X[feature_name].min(), X[feature_name].max()])\n",
        "\n",
        "plt.plot(x_range, coefs.value[feature_idx] * (x_range - X[feature_name].mean()), color='red')\n",
        "\n",
        "plt.show()"
      ],
      "execution_count": null,
      "outputs": []
    },
    {
      "cell_type": "markdown",
      "metadata": {},
      "source": [
        "Looking good, and within an estimation error.\n",
        "\n",
        "This gives us a first amount of trust in the method.\n",
        "\n",
        "So we know that when\n",
        "\n",
        "- the model is additive\n",
        "- the effects are linear\n",
        "\n",
        "then the Shapley values are the model coefficient multiplied with the actual feature value minus some constant.\n",
        "This product is also called the feature effect for an instance.\n",
        "Because the coefficient alone couldn't tell us how important a feature was for a particular instance. Because it also depends on the actual feature value: if it is large, in absolute terms, then the contribution to the outcome will be much larger than when the value is near zero.\n",
        "The constant simply adjusts the values towards the mean effect, so that the plot is centered around the *expected feature effect*.\n",
        "\n",
        "## Shapley values for additive models\n",
        "\n",
        "In this next step, we allow the relation between a feature and the target to be non-linear.\n",
        "We don't, however, allow interactions between the features.\n",
        "Additive models with non-linear base functions are perfectly modeled with so-called generalized additive models, also called GAMs.\n",
        "\n",
        "\n",
        "A GAM models y in the following way:\n",
        "\n",
        "$$\\hat{f}(x) = \\beta_0 + \\beta_1 f_1(x_1) + \\ldots + f_p(x_p)$$\n",
        "\n",
        "The difference to the simple linear model is that we allow the functions $f_j$. If these are the identity function for all features, namely $f_j(x_j) = x_j$, then we again come out with the linear model.\n",
        "So linear regression models are special cases of GAMs.\n",
        "\n",
        "But with GAMs, we can now have arbitrary functions for the features.\n",
        "A popular choice are spline functions which allow for rather flexible shapes of functions that are still smooth and have a gradient.\n",
        "\n",
        "Educationally, to understand Shapley values, they are perfect, because they allow us to study what happens with non-linear functions, but without interactions.\n",
        "Because only with interactions will the interpretation become trickier.\n",
        "\n",
        "So we go back to the same example and fit a GAM instead of a linear regression model.\n",
        "\n",
        "For this we rely on the interpret Python library. YOu can install it with:"
      ]
    },
    {
      "cell_type": "code",
      "metadata": {},
      "source": [
        "!pip install interpret"
      ],
      "execution_count": null,
      "outputs": []
    },
    {
      "cell_type": "markdown",
      "metadata": {},
      "source": [
        "Then we train the model:\n",
        "\n",
        "TODO: Rewrite that code"
      ]
    },
    {
      "cell_type": "code",
      "metadata": {},
      "source": [
        "import interpret.glassbox\n",
        "model_ebm = interpret.glassbox.ExplainableBoostingRegressor(interactions=0)\n",
        "model_ebm.fit(X, y)\n",
        "\n",
        "# explain the GAM model with SHAP\n",
        "explainer_ebm = shap.Explainer(model_ebm.predict, background)\n",
        "shap_values_ebm = explainer_ebm(X)\n",
        "\n",
        "sample_ind = 10\n",
        "\n",
        "# make a standard partial dependence plot with a single SHAP value overlaid\n",
        "fig,ax = shap.partial_dependence_plot(\n",
        "    feature_name, model_ebm.predict, background, model_expected_value=True,\n",
        "    feature_expected_value=True, show=False, ice=False,\n",
        "    shap_values=shap_values_ebm[sample_ind:sample_ind+1,:]\n",
        ")"
      ],
      "execution_count": null,
      "outputs": []
    },
    {
      "cell_type": "markdown",
      "metadata": {},
      "source": [
        "## Shapley values and feature interactions\n",
        "\n",
        "\n",
        "## How to interpret the axioms\n",
        "\n",
        "## Do's and Dont's for interpretation\n",
        "\n",
        "### Don't extrapolate \n",
        "\n",
        "### Do Consider The Background Data\n",
        "\n",
        "### Don't Overinterpret an Overfitted Model\n",
        "\n",
        "- TODO: replicate overfitted model here from pitfalls paper as a teaching lesson\n",
        "-\n",
        "-\n",
        "\n",
        "## Summary for Interpretation\n",
        "\n",
        "- Features that don't contribute to the model get a contribution of zero\n",
        "- \n"
      ]
    }
  ],
  "metadata": {
    "kernelspec": {
      "name": "python3",
      "language": "python",
      "display_name": "Python 3 (ipykernel)"
    }
  },
  "nbformat": 4,
  "nbformat_minor": 4
}