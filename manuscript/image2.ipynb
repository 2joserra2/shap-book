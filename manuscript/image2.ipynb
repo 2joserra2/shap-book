{
 "cells": [
  {
   "cell_type": "markdown",
   "id": "3676c337",
   "metadata": {},
   "source": [
    "## Image classification\n",
    "\n",
    "\n",
    "All of the examples before have been tabular data.\n",
    "Now it's time to try a different type of data: image data.\n",
    "\n",
    "So the general setup here is:\n",
    "\n",
    "- Input is image data\n",
    "- Output is a score, which can also be multi-dimensional as in multi-class classification\n",
    "\n",
    "Image classification is a common task and it's commonly solved with deep learning.\n",
    "Give an image to the model, get a class back, usually based on what's visible on the image.\n",
    "\n",
    "We aren't going to train our own image classifier, but instead will load a ResNet model (TODO:CITE) which was trained on Imagenet data.\n",
    "\n",
    "The ImageNet task is a large-scale image classification challenge that involves recognizing and categorizing objects within digital images. The challenge uses a dataset of over 1 million images, each of which belongs to one of 1000 different object categories. The task is to develop a machine learning model that can accurately classify each image into its correct category.\n",
    "\n",
    "The ImageNet challenge has been an important driver of progress in the field of computer vision and deep learning, and has led to the development of new and more accurate machine learning models. The challenge has also spurred research into related computer vision tasks such as object detection and image segmentation.\n"
   ]
  },
  {
   "cell_type": "code",
   "execution_count": 1,
   "id": "e8740bd2",
   "metadata": {},
   "outputs": [],
   "source": [
    "import json\n",
    "import numpy as np\n",
    "import tensorflow as tf\n",
    "from tensorflow.keras.applications.resnet50 import ResNet50, preprocess_input\n",
    "import shap"
   ]
  },
  {
   "cell_type": "code",
   "execution_count": 2,
   "id": "6c0f8dae",
   "metadata": {},
   "outputs": [],
   "source": [
    "# load pre-trained model and data\n",
    "model = ResNet50(weights='imagenet')\n",
    "X, y = shap.datasets.imagenet50()"
   ]
  },
  {
   "cell_type": "markdown",
   "id": "6a76acd9",
   "metadata": {},
   "source": [
    "So these are 50 images\n",
    "\n",
    "We also need the class names for them:\n"
   ]
  },
  {
   "cell_type": "code",
   "execution_count": 3,
   "id": "5fab4af9",
   "metadata": {},
   "outputs": [],
   "source": [
    "import json\n",
    "import os\n",
    "import urllib.request\n",
    "\n",
    "# Path to the JSON file on disk (change this to the desired location)\n",
    "json_file_path = 'imagenet_class_index.json'\n",
    "\n",
    "# Check if the JSON file exists on disk\n",
    "if os.path.exists(json_file_path):\n",
    "    with open(json_file_path) as file:\n",
    "        class_names = [v[1] for v in json.load(file).values()]\n",
    "else:\n",
    "    url = 'https://s3.amazonaws.com/deep-learning-models/image-models/imagenet_class_index.json'\n",
    "    with urllib.request.urlopen(url) as response:\n",
    "        json_data = response.read().decode()\n",
    "    with open(json_file_path, 'w') as file:\n",
    "        file.write(json_data)\n",
    "    class_names = [v[1] for v in json.loads(json_data).values()]"
   ]
  },
  {
   "cell_type": "markdown",
   "id": "66bd6df9",
   "metadata": {},
   "source": [
    "Let's see if the model works by trying to classify this corgi:\n",
    "\n",
    "![This is a cute Corgi](images/corgi.jpg)\n",
    "\n",
    "Look how happy this one is.\n",
    "Pure joy.\n",
    "Not aware of the danger on the tracks behind this true friend.\n"
   ]
  },
  {
   "cell_type": "code",
   "execution_count": 30,
   "id": "47c5c022",
   "metadata": {},
   "outputs": [],
   "source": [
    "image = tf.keras.preprocessing.image.load_img('corgi.jpg', target_size=(224, 224))\n",
    "image = tf.keras.preprocessing.image.img_to_array(image)"
   ]
  },
  {
   "cell_type": "code",
   "execution_count": 31,
   "id": "639957bd",
   "metadata": {},
   "outputs": [
    {
     "data": {
      "text/plain": [
       "(224, 224, 3)"
      ]
     },
     "execution_count": 31,
     "metadata": {},
     "output_type": "execute_result"
    }
   ],
   "source": [
    "image.shape"
   ]
  },
  {
   "cell_type": "code",
   "execution_count": 32,
   "id": "6746ab52",
   "metadata": {},
   "outputs": [],
   "source": [
    "first_element = np.expand_dims(image, axis=0)"
   ]
  },
  {
   "cell_type": "code",
   "execution_count": 33,
   "id": "d910d9f0",
   "metadata": {},
   "outputs": [
    {
     "data": {
      "text/plain": [
       "(1, 224, 224, 3)"
      ]
     },
     "execution_count": 33,
     "metadata": {},
     "output_type": "execute_result"
    }
   ],
   "source": [
    "first_element.shape"
   ]
  },
  {
   "cell_type": "code",
   "execution_count": 24,
   "id": "d8b7f937",
   "metadata": {},
   "outputs": [],
   "source": []
  },
  {
   "cell_type": "code",
   "execution_count": 21,
   "id": "3062bb64",
   "metadata": {},
   "outputs": [
    {
     "data": {
      "text/plain": [
       "(224, 224, 3)"
      ]
     },
     "execution_count": 21,
     "metadata": {},
     "output_type": "execute_result"
    }
   ],
   "source": [
    "image.shape"
   ]
  },
  {
   "cell_type": "code",
   "execution_count": 18,
   "id": "1457c12b",
   "metadata": {},
   "outputs": [],
   "source": [
    "img = tf.expand_dims(image, axis=0)\n"
   ]
  },
  {
   "cell_type": "code",
   "execution_count": 19,
   "id": "09a665c3",
   "metadata": {},
   "outputs": [
    {
     "data": {
      "text/plain": [
       "<tf.Tensor: shape=(1, 224, 224, 3), dtype=float32, numpy=\n",
       "array([[[[ 63.,  87.,  29.],\n",
       "         [ 61.,  86.,  44.],\n",
       "         [ 71.,  99.,  59.],\n",
       "         ...,\n",
       "         [ 84., 113.,  59.],\n",
       "         [ 75., 104.,  50.],\n",
       "         [ 78., 106.,  57.]],\n",
       "\n",
       "        [[ 61.,  83.,  44.],\n",
       "         [ 64.,  89.,  59.],\n",
       "         [ 78., 105.,  74.],\n",
       "         ...,\n",
       "         [ 76., 105.,  51.],\n",
       "         [ 75., 104.,  50.],\n",
       "         [ 74., 102.,  51.]],\n",
       "\n",
       "        [[137., 171.,  59.],\n",
       "         [ 55.,  84.,  18.],\n",
       "         [ 69.,  92.,  63.],\n",
       "         ...,\n",
       "         [ 76., 105.,  51.],\n",
       "         [ 74., 103.,  49.],\n",
       "         [ 86., 114.,  63.]],\n",
       "\n",
       "        ...,\n",
       "\n",
       "        [[ 83.,  87.,  60.],\n",
       "         [ 83.,  89.,  63.],\n",
       "         [ 83.,  89.,  63.],\n",
       "         ...,\n",
       "         [ 48.,  43.,  47.],\n",
       "         [ 55.,  51.,  52.],\n",
       "         [ 55.,  50.,  47.]],\n",
       "\n",
       "        [[ 77.,  81.,  56.],\n",
       "         [ 77.,  81.,  58.],\n",
       "         [ 76.,  81.,  59.],\n",
       "         ...,\n",
       "         [ 42.,  37.,  41.],\n",
       "         [ 51.,  47.,  48.],\n",
       "         [ 53.,  47.,  47.]],\n",
       "\n",
       "        [[ 75.,  79.,  56.],\n",
       "         [ 75.,  78.,  57.],\n",
       "         [ 72.,  77.,  57.],\n",
       "         ...,\n",
       "         [ 38.,  36.,  39.],\n",
       "         [ 48.,  44.,  45.],\n",
       "         [ 50.,  44.,  44.]]]], dtype=float32)>"
      ]
     },
     "execution_count": 19,
     "metadata": {},
     "output_type": "execute_result"
    }
   ],
   "source": [
    "img"
   ]
  },
  {
   "cell_type": "code",
   "execution_count": 4,
   "id": "e016b183",
   "metadata": {},
   "outputs": [
    {
     "name": "stdout",
     "output_type": "stream",
     "text": [
      "tf.Tensor(\n",
      "[[5.74184789e-09 8.36561867e-06 5.56487443e-08 1.93993941e-08\n",
      "  3.61792796e-09 1.44186325e-08 3.44323361e-08 1.75497098e-06\n",
      "  3.74992305e-06 1.88506544e-08 4.73724911e-04 2.90214371e-06\n",
      "  7.12317558e-07 1.69044517e-06 2.16493063e-08 1.90132050e-04\n",
      "  1.29755577e-07 2.03338232e-06 1.22069736e-07 5.70589805e-07\n",
      "  3.47577065e-06 1.29292104e-07 2.81221553e-08 7.90762556e-07\n",
      "  1.35672437e-07 2.40378517e-06 1.80879681e-06 1.38869621e-06\n",
      "  1.19909458e-07 2.88645879e-07 1.91073866e-07 1.91662548e-06\n",
      "  4.30167233e-07 8.45033128e-08 4.41368790e-08 2.50221831e-07\n",
      "  3.53940572e-06 3.26003942e-07 1.04034868e-07 7.90741126e-08\n",
      "  2.41061730e-06 4.13807513e-08 8.35286642e-07 1.39342760e-07\n",
      "  2.56132921e-07 3.20279781e-07 1.76816101e-07 8.36645953e-09\n",
      "  1.14954979e-07 2.37871859e-06 2.20709957e-08 3.28356542e-09\n",
      "  1.53820309e-07 1.70635971e-07 1.01006911e-07 4.36824088e-08\n",
      "  8.52373091e-07 4.67787800e-08 1.05527349e-07 5.48735244e-08\n",
      "  6.33528430e-07 5.50786581e-07 1.87940117e-07 7.99144715e-08\n",
      "  5.70083678e-08 3.35065522e-08 9.36836813e-08 2.77137303e-07\n",
      "  8.29884494e-10 9.02806274e-09 4.31972353e-07 6.37258040e-07\n",
      "  6.10380440e-08 3.33670123e-08 7.28933628e-07 1.97855208e-08\n",
      "  1.34007496e-06 3.31816778e-07 1.76646643e-06 1.02982540e-06\n",
      "  7.97321889e-07 4.90376124e-07 4.76394307e-05 3.03542947e-07\n",
      "  2.32594562e-06 4.49836079e-07 1.17086813e-04 4.02640801e-08\n",
      "  9.20365949e-07 6.38372398e-07 3.91994384e-08 1.81550658e-05\n",
      "  1.80156439e-06 4.37209422e-07 2.85361693e-05 7.45196758e-08\n",
      "  1.82734698e-08 2.15494856e-06 7.24631732e-08 8.46921102e-06\n",
      "  1.05490168e-08 1.06431173e-06 1.06030988e-08 1.87875600e-07\n",
      "  2.88956289e-05 2.86039324e-07 2.42835156e-08 1.24902471e-07\n",
      "  1.98277476e-07 9.59682680e-08 3.52289334e-07 6.31508499e-08\n",
      "  5.31343233e-07 5.00695496e-05 4.26105107e-05 1.14287957e-07\n",
      "  5.59061220e-07 9.66266800e-09 1.47425325e-07 1.40393311e-07\n",
      "  2.72058060e-07 1.76785164e-08 2.35507924e-09 2.81568013e-08\n",
      "  1.38051723e-06 1.52890675e-06 7.33874174e-07 1.50255062e-07\n",
      "  1.47369033e-08 2.18135810e-07 1.45595334e-06 2.04546993e-08\n",
      "  1.99117878e-07 1.33016761e-06 1.90484952e-05 4.52756019e-08\n",
      "  1.03136991e-07 2.54361421e-08 1.89862772e-06 5.57890326e-06\n",
      "  1.88377981e-05 9.17835763e-08 6.85661705e-09 2.80853314e-08\n",
      "  6.72887026e-08 1.73708013e-05 5.04017130e-08 2.30911845e-09\n",
      "  8.60798099e-10 1.18251670e-07 4.06060991e-07 2.58107379e-04\n",
      "  8.17645457e-07 5.30490013e-07 9.09686662e-07 2.93599487e-06\n",
      "  4.52694774e-04 4.78155062e-06 6.05461219e-06 2.60063671e-02\n",
      "  6.87403997e-07 5.27646684e-04 1.97567791e-01 7.30328757e-05\n",
      "  3.20910563e-04 3.33286289e-06 3.10516753e-03 1.99107662e-01\n",
      "  2.22723046e-03 2.68382428e-04 2.65925737e-05 1.32854999e-04\n",
      "  1.07005246e-01 1.60556156e-02 6.17385831e-06 3.25821043e-06\n",
      "  2.79797619e-04 3.44079832e-04 3.89749994e-06 6.36161421e-05\n",
      "  2.44375464e-04 1.14030433e-06 5.22793329e-04 5.04834497e-06\n",
      "  6.15481986e-04 2.04455846e-05 1.71050469e-05 1.92795846e-06\n",
      "  2.09033093e-03 3.03788140e-04 1.04741548e-06 2.44844705e-04\n",
      "  8.75122896e-06 1.40821221e-05 1.97824829e-06 4.16483908e-06\n",
      "  3.13321237e-07 1.09760447e-06 9.57921657e-06 2.20960700e-07\n",
      "  4.23176562e-06 4.98329825e-07 6.42707164e-05 9.74209161e-06\n",
      "  7.69775113e-07 7.18016565e-07 1.90158607e-05 2.31411867e-03\n",
      "  5.19380346e-03 1.03680890e-04 7.52806181e-06 1.30731426e-03\n",
      "  4.44381521e-06 7.91644379e-06 1.86865213e-06 1.02031615e-03\n",
      "  5.95928043e-07 4.79300354e-07 3.67436442e-04 1.09337498e-05\n",
      "  1.12944463e-06 4.37485511e-07 2.20628663e-05 5.65451728e-07\n",
      "  3.88873787e-06 7.59777846e-04 6.59652599e-08 4.41373704e-05\n",
      "  1.18699894e-07 5.28159887e-07 4.56519949e-04 1.34681165e-03\n",
      "  5.39343819e-05 3.29554837e-06 5.04656418e-06 5.64145521e-05\n",
      "  3.33307762e-05 7.88532020e-07 6.98640360e-04 1.12994137e-04\n",
      "  8.05875566e-03 1.23553793e-03 3.46673513e-03 3.63961793e-04\n",
      "  2.20386505e-06 2.32882776e-05 6.50932780e-05 7.56954029e-03\n",
      "  2.54770275e-04 5.35534355e-06 1.51408778e-04 3.07055743e-05\n",
      "  3.14003842e-07 2.25911573e-01 2.05898141e-05 3.92563270e-05\n",
      "  1.50890264e-06 2.11357565e-05 3.29824758e-07 1.35411456e-05\n",
      "  4.55354821e-05 2.20078142e-08 2.71501867e-05 4.10615876e-02\n",
      "  1.10742496e-02 1.57624686e-06 1.25694282e-06 9.38948688e-06\n",
      "  2.54260186e-07 2.39836627e-05 4.96927214e-06 3.37156607e-03\n",
      "  1.96961366e-04 1.56777073e-02 6.68008626e-02 7.86410965e-06\n",
      "  4.23962847e-05 5.34757879e-03 3.97407974e-04 2.99442195e-06\n",
      "  1.95159198e-04 8.62699926e-06 3.78008955e-03 9.19453441e-07\n",
      "  4.01246871e-05 1.36668868e-05 5.02122426e-03 1.76200519e-05\n",
      "  1.79859726e-05 3.31704797e-07 1.05683366e-05 1.23519148e-05\n",
      "  6.48643682e-03 1.12593489e-05 1.34576898e-04 4.07320204e-06\n",
      "  2.15279724e-05 6.76796148e-08 4.62470089e-05 2.12455725e-05\n",
      "  1.21702932e-08 1.45184909e-04 1.26387718e-08 1.37444346e-07\n",
      "  1.40242173e-06 1.33792568e-08 1.97882670e-07 3.04347905e-05\n",
      "  1.58701567e-07 6.57565533e-06 7.00621331e-06 2.26029533e-06\n",
      "  2.01094153e-07 3.76376192e-07 1.43487978e-06 9.97261367e-08\n",
      "  5.00038823e-07 3.96946598e-06 4.37814407e-07 1.88192473e-07\n",
      "  1.47575205e-08 2.77265769e-07 1.18789751e-06 4.12144146e-07\n",
      "  2.81124208e-08 1.75390333e-08 2.07141468e-07 5.79847494e-08\n",
      "  1.61762781e-08 1.07191724e-07 7.93647541e-06 9.29435555e-05\n",
      "  1.17919562e-07 8.87303395e-05 3.25060756e-09 1.93951142e-04\n",
      "  2.76599985e-05 2.29212365e-05 1.11989193e-05 3.35265824e-04\n",
      "  1.43042769e-07 3.19745413e-05 8.15393105e-06 9.36368394e-07\n",
      "  6.63112587e-07 8.64105459e-06 9.65299307e-08 7.86688020e-07\n",
      "  6.51457522e-05 3.77528693e-07 1.69216457e-06 9.26676691e-08\n",
      "  1.27946541e-05 1.22478523e-04 1.82599855e-08 4.20809993e-05\n",
      "  1.95327704e-03 2.99106273e-06 1.66949349e-07 6.04757986e-07\n",
      "  4.33375135e-06 1.10153941e-07 1.12518890e-07 1.27008297e-08\n",
      "  6.28412922e-09 3.36606263e-07 1.86803817e-07 1.46504711e-08\n",
      "  3.47355694e-06 1.33002294e-08 1.04586488e-05 5.37319016e-03\n",
      "  3.74857834e-08 1.64810281e-05 7.22903451e-06 4.17988986e-07\n",
      "  4.13511507e-03 8.18022954e-07 2.76671216e-07 2.41645779e-07\n",
      "  3.24319226e-05 3.69502322e-06 1.41406899e-05 6.95817698e-06\n",
      "  8.99122024e-05 7.94630182e-07 3.01036891e-07 1.16348371e-03\n",
      "  2.11203599e-07 4.01470217e-08 1.73920576e-08 1.41789315e-07\n",
      "  8.65875283e-09 1.37880605e-07 3.56099648e-08 6.94667364e-08\n",
      "  4.73098680e-07 1.80384816e-07 2.20828824e-07 1.50999156e-07\n",
      "  7.19454931e-08 1.29828538e-06 1.80862071e-06 3.05949310e-09\n",
      "  1.59160152e-08 1.26252555e-08 3.84983743e-08 5.12836777e-08\n",
      "  6.11786959e-07 8.44375023e-08 2.12696250e-06 3.37535909e-07\n",
      "  7.77759851e-06 1.06223851e-07 1.50585504e-06 3.90478453e-06\n",
      "  5.83963562e-08 5.14550993e-06 5.42468229e-07 1.08660413e-06\n",
      "  5.80362075e-06 1.71762204e-05 2.05979433e-07 1.57926749e-07\n",
      "  1.75922032e-08 8.27347230e-06 9.14782902e-07 1.63484347e-05\n",
      "  5.01269067e-04 1.76580602e-06 6.54139512e-07 8.92850061e-09\n",
      "  1.03472253e-07 1.31206998e-05 7.43030296e-06 2.18958985e-06\n",
      "  5.37312523e-08 1.29370369e-06 2.59478099e-07 6.63384503e-09\n",
      "  1.66755872e-05 4.66339816e-06 9.25074986e-08 1.26187857e-07\n",
      "  3.36895596e-07 5.33371917e-07 5.13730143e-08 1.29457999e-06\n",
      "  3.76863409e-06 2.26837597e-06 4.85121063e-08 5.70630334e-08\n",
      "  7.91688478e-07 3.64459147e-08 6.33796435e-06 6.99130567e-07\n",
      "  1.93136572e-07 1.72507555e-06 2.25938905e-07 3.30980839e-07\n",
      "  1.09604962e-05 5.60088464e-09 3.17444028e-06 5.51671328e-05\n",
      "  7.75972779e-08 1.36176155e-07 5.50088863e-09 2.42620324e-08\n",
      "  1.29477507e-06 1.35418162e-07 2.77843327e-07 3.67368784e-08\n",
      "  8.06937169e-06 7.93530219e-08 2.89232105e-08 1.97266727e-05\n",
      "  6.78389682e-08 2.03315924e-08 2.39897474e-07 4.49747745e-07\n",
      "  6.06606420e-07 6.23295460e-09 4.04617424e-08 1.69400607e-07\n",
      "  3.79614562e-08 3.71548414e-09 2.34608597e-05 1.33507331e-06\n",
      "  3.87311911e-06 2.46352847e-05 3.18443085e-08 5.39124449e-06\n",
      "  9.69301528e-09 1.88588434e-09 6.47076718e-07 3.13924353e-08\n",
      "  2.09632361e-07 1.55509247e-06 3.30954499e-08 1.64428457e-07\n",
      "  3.97777242e-08 7.08950608e-07 1.70062805e-07 5.12480653e-07\n",
      "  4.26370343e-06 2.25931162e-05 1.84795709e-07 9.77653258e-07\n",
      "  2.30579894e-06 3.25960116e-07 9.21337531e-08 1.51774362e-08\n",
      "  1.19868744e-07 1.32751467e-07 8.68659356e-07 2.03206309e-05\n",
      "  1.14584964e-08 1.29824770e-07 1.69599036e-06 4.84766815e-06\n",
      "  1.44095873e-08 6.51669083e-08 1.02178012e-06 5.32147965e-07\n",
      "  3.03666270e-09 2.80221258e-07 3.17613917e-08 1.71559265e-08\n",
      "  7.90696646e-08 7.77953346e-08 2.39515032e-07 1.24859173e-06\n",
      "  1.60039974e-07 3.32699059e-08 4.63670801e-07 1.08144185e-07\n",
      "  2.39861322e-07 4.71523754e-06 3.30063273e-07 1.31977786e-05\n",
      "  9.82584347e-10 6.69227404e-07 1.61519452e-07 3.54002196e-07\n",
      "  2.07216448e-08 4.20284563e-09 7.69475662e-07 3.68945230e-08\n",
      "  1.64982215e-08 1.32524391e-07 5.22097459e-08 5.08312098e-07\n",
      "  5.76165348e-06 1.20344893e-07 2.20415899e-08 1.58863614e-07\n",
      "  3.95196942e-08 2.98615021e-07 4.78494258e-07 1.86265694e-07\n",
      "  8.72223836e-07 1.18196425e-07 1.76524045e-03 5.36794964e-09\n",
      "  2.34799380e-08 1.64322864e-06 6.47215018e-07 1.27253941e-06\n",
      "  2.17833644e-06 1.15090458e-07 3.64358556e-07 1.37858069e-06\n",
      "  3.12078583e-07 5.36577938e-09 1.38004873e-06 7.87703016e-07\n",
      "  9.55368407e-09 9.09002438e-07 3.82634062e-05 7.66653798e-08\n",
      "  9.64989304e-05 4.64316429e-07 6.24011648e-07 2.84754378e-07\n",
      "  1.03865592e-08 4.04279319e-07 9.55379846e-08 2.42624395e-07\n",
      "  3.14895118e-07 6.16120559e-08 1.01929970e-07 9.42954372e-08\n",
      "  1.07047271e-07 7.39058862e-07 3.19853234e-06 7.82320967e-07\n",
      "  2.59001581e-06 9.91584486e-08 4.77061874e-08 4.09325395e-07\n",
      "  1.06637208e-06 4.74483159e-07 4.11763246e-08 1.63639311e-06\n",
      "  6.40467078e-07 8.94008352e-08 8.44950137e-08 2.79415360e-07\n",
      "  1.25425231e-06 1.73036301e-06 1.03642083e-06 1.29027412e-05\n",
      "  3.24943016e-07 5.36395772e-09 4.66836610e-07 2.66493245e-08\n",
      "  1.21022211e-07 2.51530423e-06 1.01743365e-06 2.06253446e-07\n",
      "  4.03392733e-07 3.15240527e-06 2.19335811e-06 1.18534089e-08\n",
      "  1.35319596e-08 5.96254949e-07 4.59616531e-05 2.09049702e-08\n",
      "  3.63366617e-08 1.49684823e-07 2.60042015e-08 2.66824122e-06\n",
      "  2.07686824e-07 7.42017960e-07 1.04622245e-06 2.44393277e-07\n",
      "  5.07143284e-07 1.41613702e-06 1.17049904e-05 9.12273038e-07\n",
      "  3.82275147e-07 1.79494819e-08 4.88093633e-07 4.13916865e-08\n",
      "  3.80861638e-06 9.67416227e-08 3.32081129e-07 1.82210968e-07\n",
      "  1.82610222e-07 6.64302817e-08 5.99910095e-08 4.72793964e-08\n",
      "  1.58885115e-07 1.66536290e-06 4.69385668e-07 2.40057233e-07\n",
      "  7.01187787e-07 8.89876528e-09 4.42036890e-06 1.29369695e-07\n",
      "  2.10716257e-06 8.41240322e-08 3.46080000e-08 1.45934720e-07\n",
      "  6.33701177e-07 1.01029173e-05 6.18124574e-08 1.74208836e-07\n",
      "  1.68002202e-07 9.94101811e-07 1.91893450e-05 7.28463510e-06\n",
      "  2.79905953e-06 2.23544205e-07 4.80214248e-06 9.49196135e-08\n",
      "  4.41425873e-05 1.98479174e-05 3.61352477e-07 2.46718884e-07\n",
      "  3.14599760e-07 1.70574538e-06 4.58912638e-07 3.19509468e-07\n",
      "  5.24071197e-07 1.58158258e-07 4.99317343e-09 2.10416506e-09\n",
      "  8.80123352e-09 1.12900409e-06 4.15660588e-06 3.11068021e-07\n",
      "  3.35175969e-07 3.54259714e-06 1.59972373e-07 4.37047856e-06\n",
      "  5.00150463e-07 2.39087203e-08 7.77865878e-08 3.54863118e-07\n",
      "  4.68479669e-07 1.07506530e-07 1.35982802e-07 4.64417190e-06\n",
      "  1.27807823e-06 3.36283478e-07 1.04378920e-07 5.33194452e-07\n",
      "  2.07078060e-07 1.64152922e-08 1.23118698e-05 5.62801324e-06\n",
      "  6.27469205e-07 4.11786054e-08 1.74563738e-07 5.21148547e-09\n",
      "  8.19922934e-06 1.57404244e-07 6.55460212e-07 9.43644380e-08\n",
      "  2.78927331e-07 1.74239403e-07 4.42612503e-07 5.61789939e-08\n",
      "  1.85822302e-09 5.36239122e-06 2.56452743e-08 1.53935943e-07\n",
      "  3.62298829e-06 7.59650653e-09 1.78232892e-06 2.13935368e-06\n",
      "  4.86421428e-08 1.49448135e-06 2.81298025e-08 5.95379845e-07\n",
      "  1.60199924e-08 6.67558595e-07 8.42115696e-07 2.03028776e-08\n",
      "  8.27066344e-08 8.71763017e-09 2.64478422e-06 9.87829836e-08\n",
      "  1.95920862e-08 3.58315799e-09 6.61141470e-08 1.30298332e-07\n",
      "  3.51388216e-08 9.41498683e-08 6.51698031e-07 1.71979604e-08\n",
      "  3.55081795e-07 5.02187504e-07 7.99283484e-08 1.14592019e-07\n",
      "  1.92329594e-06 1.68063565e-07 1.43485181e-07 2.48755924e-07\n",
      "  8.90754848e-08 9.14985435e-07 3.48470707e-07 3.81008903e-07\n",
      "  1.88869160e-06 3.08377736e-07 1.94291559e-07 1.43897046e-06\n",
      "  2.76625826e-07 2.79507435e-06 7.06538344e-07 2.15806551e-07\n",
      "  3.32070357e-07 1.44005835e-05 1.38725937e-07 5.70089647e-08\n",
      "  7.78302478e-07 3.09701207e-08 7.90025823e-08 1.16099145e-05\n",
      "  2.38328237e-08 5.51028485e-08 3.40577941e-07 1.57198360e-06\n",
      "  2.36625723e-07 2.08427423e-06 1.20790853e-08 3.53848115e-08\n",
      "  5.45710535e-08 1.96554439e-07 7.19722593e-08 2.90584944e-06\n",
      "  4.92052504e-06 6.43022531e-06 8.92167463e-07 2.30892255e-07\n",
      "  1.66164838e-07 1.45900844e-06 1.39141383e-08 8.86073849e-06\n",
      "  8.18230959e-08 3.11926556e-07 6.04733259e-07 5.90359377e-06\n",
      "  2.58672026e-06 2.61177520e-05 9.87042554e-08 9.62613626e-07\n",
      "  3.77343696e-07 4.16070037e-07 1.16599610e-08 1.48493342e-07\n",
      "  2.60006971e-07 5.23823360e-07 7.99817599e-07 2.66957122e-05\n",
      "  6.49835192e-06 7.37446548e-09 5.46003093e-06 3.98301881e-06\n",
      "  2.28842794e-07 2.58204960e-08 3.38444539e-09 1.08949763e-07\n",
      "  1.20029870e-06 2.37458198e-06 3.97955745e-07 6.01318035e-08\n",
      "  1.68499845e-08 2.69888915e-07 9.92983189e-08 6.38829434e-08\n",
      "  7.46820277e-08 4.28438263e-09 1.53861174e-06 4.56697116e-08\n",
      "  2.34952176e-06 5.59527189e-06 8.47936903e-08 7.97992570e-08\n",
      "  1.06262853e-07 8.56533802e-07 2.83161125e-06 1.06653935e-07\n",
      "  7.29205780e-08 3.03913424e-07 2.36590964e-07 2.82483814e-08\n",
      "  4.33417249e-08 3.27872186e-07 2.81647135e-05 3.83050474e-06\n",
      "  4.54502559e-04 2.26670537e-07 1.06847426e-06 4.56746136e-07\n",
      "  2.63753233e-08 9.42167873e-08 1.08828372e-05 1.24958708e-04\n",
      "  4.26358895e-08 1.96308201e-06 1.33191054e-06 2.48831157e-07\n",
      "  4.31436895e-08 3.42343242e-07 3.62256674e-06 6.39081676e-08\n",
      "  3.64046315e-07 2.06083371e-07 1.66239970e-05 6.62694362e-08\n",
      "  1.41750581e-06 2.64937583e-08 5.47522205e-09 1.37915592e-07\n",
      "  5.37911956e-06 2.18877673e-07 1.13141834e-08 5.94787707e-04\n",
      "  3.68304910e-07 6.38329766e-07 2.08735946e-06 2.75555493e-07\n",
      "  4.39787691e-08 2.64600999e-08 1.67845167e-06 5.75301954e-07\n",
      "  2.14889965e-07 3.77301585e-05 9.41545775e-09 2.91584712e-07\n",
      "  1.57741233e-08 2.92168814e-08 4.19643742e-09 7.38461337e-09\n",
      "  8.39370330e-07 2.93400319e-07 9.69797748e-06 2.61089212e-06\n",
      "  3.33268645e-07 2.72730887e-07 9.09422113e-07 1.49198698e-07\n",
      "  1.77247988e-04 2.07496953e-07 7.46508348e-08 6.11302880e-07\n",
      "  3.20692557e-08 2.37391049e-07 1.01522176e-06 1.30249518e-07\n",
      "  5.50225104e-06 4.17537194e-07 1.79937683e-08 3.03047500e-07\n",
      "  1.48944150e-06 2.48154191e-08 7.71840476e-08 1.53087194e-06\n",
      "  9.22063563e-08 1.42601397e-08 2.63633524e-08 1.52368912e-07\n",
      "  3.93892606e-07 8.70802097e-08 3.67897819e-08 2.83944228e-08\n",
      "  3.17807377e-07 1.76104004e-06 5.00693795e-06 2.45679494e-05\n",
      "  6.71696114e-07 1.13013371e-07 1.31555623e-06 7.06045640e-08\n",
      "  5.99326029e-07 2.80316272e-06 7.50725633e-08 9.65283142e-09\n",
      "  4.49648230e-09 5.60556863e-08 2.57523762e-08 2.77346174e-07\n",
      "  3.03020151e-08 4.74791122e-08 7.74285169e-08 8.66290748e-07\n",
      "  9.52642313e-06 9.98615661e-08 8.04918091e-06 1.18022854e-05\n",
      "  3.72576530e-08 3.20883444e-08 2.20893284e-07 3.67911177e-08\n",
      "  2.86596205e-08 4.37033890e-07 8.35970059e-06 4.27827622e-08\n",
      "  2.22126545e-07 3.03303381e-07 8.29925781e-08 6.97153780e-07\n",
      "  1.39877855e-07 7.53901759e-08 1.98859516e-06 6.55355223e-07\n",
      "  3.23615222e-06 9.60269517e-08 3.54795975e-06 4.13495931e-04\n",
      "  4.71116073e-06 3.00066091e-07 2.53065991e-06 1.61693388e-04\n",
      "  1.75807990e-08 3.22429969e-07 1.02066497e-06 4.99240969e-06\n",
      "  1.21606703e-07 4.32625853e-07 2.44349599e-06 2.84825262e-07\n",
      "  1.26899101e-06 2.89809321e-07 1.27730488e-07 3.97300300e-06\n",
      "  2.12175692e-05 1.31220190e-06 5.37462211e-06 1.32378318e-06\n",
      "  2.02025294e-05 4.64956929e-06 7.16087834e-06 2.65656149e-06\n",
      "  2.96390652e-07 2.06727168e-06 1.13244630e-06 2.11851366e-05]], shape=(1, 1000), dtype=float32)\n"
     ]
    }
   ],
   "source": [
    "# Load and preprocess an example image\n",
    "image = tf.keras.preprocessing.image.load_img('corgi.jpg', target_size=(224, 224))\n",
    "image = tf.keras.preprocessing.image.img_to_array(image)\n",
    "image = preprocess_input(image)\n",
    "# Add an extra dimension to the image to match the expected input shape of the model\n",
    "img = tf.expand_dims(image, axis=0)\n",
    "\n",
    "\n",
    "\n",
    "print(model(img))"
   ]
  },
  {
   "cell_type": "code",
   "execution_count": 7,
   "id": "da860e36",
   "metadata": {},
   "outputs": [
    {
     "data": {
      "text/plain": [
       "TensorShape([1, 224, 224, 3])"
      ]
     },
     "execution_count": 7,
     "metadata": {},
     "output_type": "execute_result"
    }
   ],
   "source": [
    "img.shape"
   ]
  },
  {
   "cell_type": "code",
   "execution_count": 6,
   "id": "744ad2b6",
   "metadata": {},
   "outputs": [
    {
     "data": {
      "text/plain": [
       "(224, 224, 3)"
      ]
     },
     "execution_count": 6,
     "metadata": {},
     "output_type": "execute_result"
    }
   ],
   "source": [
    "X[0].shape"
   ]
  },
  {
   "cell_type": "markdown",
   "id": "6179a648",
   "metadata": {},
   "source": [
    "Now we only have to combine the labels with the network outputs and return the most likely classes.\n"
   ]
  },
  {
   "cell_type": "code",
   "execution_count": null,
   "id": "0288b25c",
   "metadata": {},
   "outputs": [],
   "source": [
    "# wrap the model\n",
    "def f(x):\n",
    "    tmp = x.copy()\n",
    "    preprocess_input(tmp)\n",
    "    return model(tmp)\n",
    "\n",
    "\n",
    "\n",
    "def get_top_classes(probs, class_names, num_classes=1):\n",
    "    # Get the indices to sort the probabilities in descending order\n",
    "    sorted_indices = np.argsort(probs.detach().numpy()[0])[::-1]\n",
    "    # Get the top num_classes class names\n",
    "    top_classes = [class_names[i] for i in sorted_indices[:num_classes]]\n",
    "    return top_classes\n",
    "get_top_classes(f(img), class_names, 5)"
   ]
  },
  {
   "cell_type": "markdown",
   "id": "fcb7757d",
   "metadata": {},
   "source": [
    "Seems like the network \"thinks\" this image shows a whippet.\n",
    "But what's the explanation for this classification?\n",
    "\n",
    "To answer this, we will use Shapley values and explain the image classification.\n",
    "\n",
    "## SHAP for image classification\n",
    "\n",
    "To create a shap explanation, we need three things:\n",
    "\n",
    "- the prediction function\n",
    "- the masker, which is also a function\n",
    "- the class names\n",
    "\n",
    "Then we are finally ready to estimate the Shapley values.\n"
   ]
  },
  {
   "cell_type": "code",
   "execution_count": null,
   "id": "7164d40f",
   "metadata": {},
   "outputs": [],
   "source": [
    "# Number of top classes for which to compute the SHAP explanations\n",
    "topk = 5\n",
    "\n",
    "# The masker blurs out parts of the image \n",
    "masker = shap.maskers.Image(\n",
    "  \"blur(128,128)\", shape = X[0].shape\n",
    ")\n",
    "\n",
    "explainer = shap.Explainer(\n",
    "  predict, masker, output_names=class_names\n",
    ")\n",
    "\n",
    "shap_values = explainer(\n",
    "  img, max_evals=100,\n",
    "  outputs=shap.Explanation.argsort.flip[:topk]\n",
    ")"
   ]
  },
  {
   "cell_type": "code",
   "execution_count": null,
   "id": "0842d157",
   "metadata": {},
   "outputs": [],
   "source": [
    "shap.image_plot(shap_values=shap_values.values,\n",
    "                pixel_values=shap_values.data,\n",
    "                labels=shap_values.output_names,\n",
    "                true_labels=[class_names[output.argmax()]])"
   ]
  },
  {
   "cell_type": "markdown",
   "id": "0964a949",
   "metadata": {},
   "source": [
    "## Effect of Different Inpainting Methods\n",
    "\n",
    "- TODO: make a list of the masks\n",
    "- iterate through the lists\n",
    "- show top 5 classes\n",
    "- TODO: look for 5 papers\n"
   ]
  },
  {
   "cell_type": "code",
   "execution_count": null,
   "id": "462c337a",
   "metadata": {},
   "outputs": [],
   "source": [
    "# define a masker that is used to mask out partitions of the input image. \n",
    "mask_names = [\"inpaint_telea\", \"inpaint_ns\", \"blur(128, 128)\", \"blur(16, 16)\"]\n",
    "\n",
    "masks = [shap.maskers.Image(m, shape = img_tensor2[0].shape) for m in mask_names]"
   ]
  },
  {
   "cell_type": "code",
   "execution_count": null,
   "id": "c494304e",
   "metadata": {},
   "outputs": [],
   "source": [
    "topk = 2\n",
    "\n",
    "for mask in masks:\n",
    "    # create an explainer with model and image masker \n",
    "    explainer = shap.Explainer(predict, mask, output_names=class_names)\n",
    "    # here we explain two images using 500 evaluations of the underlying model to estimate the SHAP values\n",
    "    shap_values = explainer(img_tensor2, max_evals=100, batch_size=50, outputs=shap.Explanation.argsort.flip[:topk])\n",
    "    shap_values.data = inv_transform(shap_values.data).cpu().numpy()[0]\n",
    "    shap_values.values = [val for val in np.moveaxis(shap_values.values[0],-1, 0)]\n",
    "    shap.image_plot(shap_values=shap_values.values,\n",
    "            pixel_values=shap_values.data,\n",
    "            labels=shap_values.output_names,\n",
    "            true_labels=[class_names[output.argmax()]])"
   ]
  },
  {
   "cell_type": "markdown",
   "id": "5dbe3ba3",
   "metadata": {},
   "source": [
    "We have two options of what we want to see as input features:\n",
    "\n",
    "- individual pixels\n",
    "- larger collections of pixels\n",
    "\n",
    "The network gets as input the individual pixels, but that doesn't mean we have to use the same granularity for the explanations.\n",
    "\n",
    "The second choice is about how we mask absent (sets of) pixels:\n",
    "\n",
    "- We could replace them from background data\n",
    "- Or we could replace them with some reference, which could be blurring them or replacing them with grey pixels (or some other \"neutral\" color)\n",
    "\n",
    "\n",
    "\n",
    "# DeepExplainer\n",
    "\n",
    "We can do all the same but on a pixel level. Depending on your application, this can make sense. But it's expensive.\n",
    "\n",
    "It makes sense if you need a really fine-grained explanation.\n",
    "\n",
    "Instead of an \"Explainer\" object, we create a \"DeepExplainer\". This also means we need no masker, but we will again work with the background data.\n",
    "\n",
    "But here's the thing: Which data to use.\n",
    "Since I haven't trained the model myself, I have to think hard on what the background data is.\n",
    "Usually it would be from the same distribution as my usual data. \n",
    "\n",
    "But that's super slow, I see no point in using it.\n",
    "\n",
    "\n",
    "## The Correlation problem for images\n",
    "\n",
    "\n",
    "We have talked about the correlation problem in the [correlation chapter](#correlation).\n",
    "And there it was for the background data.\n",
    "But does the same occur if we have image data?\n",
    "\n",
    "There is a similar problem, but there it makes more sense to speak about extrapolation: Leaving the distribution of training data by creating new images.\n",
    "And that's depending on the masker.\n",
    "The masker creates new images, which might be far removed from the input data.\n",
    "\n",
    "TODO: check out research on maskers and their effect on explanation\n",
    "\n",
    "### Problems and TODOs:\n",
    "    \n",
    "- When changing the masker, the topk classes change, but they shouldn't?\n",
    "- \n"
   ]
  }
 ],
 "metadata": {
  "kernelspec": {
   "display_name": "Python 3 (ipykernel)",
   "language": "python",
   "name": "python3"
  },
  "language_info": {
   "codemirror_mode": {
    "name": "ipython",
    "version": 3
   },
   "file_extension": ".py",
   "mimetype": "text/x-python",
   "name": "python",
   "nbconvert_exporter": "python",
   "pygments_lexer": "ipython3",
   "version": "3.10.10"
  }
 },
 "nbformat": 4,
 "nbformat_minor": 5
}
